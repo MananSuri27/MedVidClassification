{
  "cells": [
    {
      "cell_type": "markdown",
      "metadata": {
        "id": "view-in-github",
        "colab_type": "text"
      },
      "source": [
        "<a href=\"https://colab.research.google.com/github/MananSuri27/MedVidClassification/blob/main/MedVidCL.ipynb\" target=\"_parent\"><img src=\"https://colab.research.google.com/assets/colab-badge.svg\" alt=\"Open In Colab\"/></a>"
      ]
    },
    {
      "cell_type": "markdown",
      "metadata": {
        "id": "qnp3odt46Oph"
      },
      "source": [
        "# MedVid QnA"
      ]
    },
    {
      "cell_type": "code",
      "execution_count": 1,
      "metadata": {
        "colab": {
          "base_uri": "https://localhost:8080/"
        },
        "id": "7oo9Ujpc8Qav",
        "outputId": "dd20341d-a8a8-4a73-c77e-0df637f6392c"
      },
      "outputs": [
        {
          "output_type": "stream",
          "name": "stdout",
          "text": [
            "Collecting ktrain\n",
            "  Downloading ktrain-0.29.3.tar.gz (25.3 MB)\n",
            "\u001b[K     |████████████████████████████████| 25.3 MB 44.9 MB/s \n",
            "\u001b[?25hCollecting scikit-learn==0.24.2\n",
            "  Downloading scikit_learn-0.24.2-cp37-cp37m-manylinux2010_x86_64.whl (22.3 MB)\n",
            "\u001b[K     |████████████████████████████████| 22.3 MB 1.4 MB/s \n",
            "\u001b[?25hRequirement already satisfied: matplotlib>=3.0.0 in /usr/local/lib/python3.7/dist-packages (from ktrain) (3.2.2)\n",
            "Requirement already satisfied: pandas>=1.0.1 in /usr/local/lib/python3.7/dist-packages (from ktrain) (1.3.5)\n",
            "Requirement already satisfied: fastprogress>=0.1.21 in /usr/local/lib/python3.7/dist-packages (from ktrain) (1.0.2)\n",
            "Requirement already satisfied: requests in /usr/local/lib/python3.7/dist-packages (from ktrain) (2.23.0)\n",
            "Requirement already satisfied: joblib in /usr/local/lib/python3.7/dist-packages (from ktrain) (1.1.0)\n",
            "Requirement already satisfied: packaging in /usr/local/lib/python3.7/dist-packages (from ktrain) (21.3)\n",
            "Collecting langdetect\n",
            "  Downloading langdetect-1.0.9.tar.gz (981 kB)\n",
            "\u001b[K     |████████████████████████████████| 981 kB 35.6 MB/s \n",
            "\u001b[?25hRequirement already satisfied: jieba in /usr/local/lib/python3.7/dist-packages (from ktrain) (0.42.1)\n",
            "Collecting cchardet\n",
            "  Downloading cchardet-2.1.7-cp37-cp37m-manylinux2010_x86_64.whl (263 kB)\n",
            "\u001b[K     |████████████████████████████████| 263 kB 44.1 MB/s \n",
            "\u001b[?25hRequirement already satisfied: chardet in /usr/local/lib/python3.7/dist-packages (from ktrain) (3.0.4)\n",
            "Collecting syntok==1.3.3\n",
            "  Downloading syntok-1.3.3-py3-none-any.whl (22 kB)\n",
            "Collecting seqeval==0.0.19\n",
            "  Downloading seqeval-0.0.19.tar.gz (30 kB)\n",
            "Collecting transformers==4.10.3\n",
            "  Downloading transformers-4.10.3-py3-none-any.whl (2.8 MB)\n",
            "\u001b[K     |████████████████████████████████| 2.8 MB 30.9 MB/s \n",
            "\u001b[?25hCollecting sentencepiece\n",
            "  Downloading sentencepiece-0.1.96-cp37-cp37m-manylinux_2_17_x86_64.manylinux2014_x86_64.whl (1.2 MB)\n",
            "\u001b[K     |████████████████████████████████| 1.2 MB 42.8 MB/s \n",
            "\u001b[?25hCollecting keras_bert>=0.86.0\n",
            "  Downloading keras-bert-0.89.0.tar.gz (25 kB)\n",
            "Collecting whoosh\n",
            "  Downloading Whoosh-2.7.4-py2.py3-none-any.whl (468 kB)\n",
            "\u001b[K     |████████████████████████████████| 468 kB 45.0 MB/s \n",
            "\u001b[?25hRequirement already satisfied: numpy>=1.13.3 in /usr/local/lib/python3.7/dist-packages (from scikit-learn==0.24.2->ktrain) (1.21.5)\n",
            "Requirement already satisfied: scipy>=0.19.1 in /usr/local/lib/python3.7/dist-packages (from scikit-learn==0.24.2->ktrain) (1.4.1)\n",
            "Requirement already satisfied: threadpoolctl>=2.0.0 in /usr/local/lib/python3.7/dist-packages (from scikit-learn==0.24.2->ktrain) (3.1.0)\n",
            "Requirement already satisfied: Keras>=2.2.4 in /usr/local/lib/python3.7/dist-packages (from seqeval==0.0.19->ktrain) (2.8.0)\n",
            "Requirement already satisfied: regex in /usr/local/lib/python3.7/dist-packages (from syntok==1.3.3->ktrain) (2019.12.20)\n",
            "Requirement already satisfied: filelock in /usr/local/lib/python3.7/dist-packages (from transformers==4.10.3->ktrain) (3.6.0)\n",
            "Requirement already satisfied: tqdm>=4.27 in /usr/local/lib/python3.7/dist-packages (from transformers==4.10.3->ktrain) (4.63.0)\n",
            "Collecting sacremoses\n",
            "  Downloading sacremoses-0.0.49-py3-none-any.whl (895 kB)\n",
            "\u001b[K     |████████████████████████████████| 895 kB 38.7 MB/s \n",
            "\u001b[?25hCollecting pyyaml>=5.1\n",
            "  Downloading PyYAML-6.0-cp37-cp37m-manylinux_2_5_x86_64.manylinux1_x86_64.manylinux_2_12_x86_64.manylinux2010_x86_64.whl (596 kB)\n",
            "\u001b[K     |████████████████████████████████| 596 kB 38.3 MB/s \n",
            "\u001b[?25hCollecting huggingface-hub>=0.0.12\n",
            "  Downloading huggingface_hub-0.4.0-py3-none-any.whl (67 kB)\n",
            "\u001b[K     |████████████████████████████████| 67 kB 720 kB/s \n",
            "\u001b[?25hCollecting tokenizers<0.11,>=0.10.1\n",
            "  Downloading tokenizers-0.10.3-cp37-cp37m-manylinux_2_5_x86_64.manylinux1_x86_64.manylinux_2_12_x86_64.manylinux2010_x86_64.whl (3.3 MB)\n",
            "\u001b[K     |████████████████████████████████| 3.3 MB 34.6 MB/s \n",
            "\u001b[?25hRequirement already satisfied: importlib-metadata in /usr/local/lib/python3.7/dist-packages (from transformers==4.10.3->ktrain) (4.11.2)\n",
            "Requirement already satisfied: typing-extensions>=3.7.4.3 in /usr/local/lib/python3.7/dist-packages (from huggingface-hub>=0.0.12->transformers==4.10.3->ktrain) (3.10.0.2)\n",
            "Collecting keras-transformer==0.40.0\n",
            "  Downloading keras-transformer-0.40.0.tar.gz (9.7 kB)\n",
            "Collecting keras-pos-embd==0.13.0\n",
            "  Downloading keras-pos-embd-0.13.0.tar.gz (5.6 kB)\n",
            "Collecting keras-multi-head==0.29.0\n",
            "  Downloading keras-multi-head-0.29.0.tar.gz (13 kB)\n",
            "Collecting keras-layer-normalization==0.16.0\n",
            "  Downloading keras-layer-normalization-0.16.0.tar.gz (3.9 kB)\n",
            "Collecting keras-position-wise-feed-forward==0.8.0\n",
            "  Downloading keras-position-wise-feed-forward-0.8.0.tar.gz (4.1 kB)\n",
            "Collecting keras-embed-sim==0.10.0\n",
            "  Downloading keras-embed-sim-0.10.0.tar.gz (3.6 kB)\n",
            "Collecting keras-self-attention==0.51.0\n",
            "  Downloading keras-self-attention-0.51.0.tar.gz (11 kB)\n",
            "Requirement already satisfied: python-dateutil>=2.1 in /usr/local/lib/python3.7/dist-packages (from matplotlib>=3.0.0->ktrain) (2.8.2)\n",
            "Requirement already satisfied: pyparsing!=2.0.4,!=2.1.2,!=2.1.6,>=2.0.1 in /usr/local/lib/python3.7/dist-packages (from matplotlib>=3.0.0->ktrain) (3.0.7)\n",
            "Requirement already satisfied: kiwisolver>=1.0.1 in /usr/local/lib/python3.7/dist-packages (from matplotlib>=3.0.0->ktrain) (1.3.2)\n",
            "Requirement already satisfied: cycler>=0.10 in /usr/local/lib/python3.7/dist-packages (from matplotlib>=3.0.0->ktrain) (0.11.0)\n",
            "Requirement already satisfied: pytz>=2017.3 in /usr/local/lib/python3.7/dist-packages (from pandas>=1.0.1->ktrain) (2018.9)\n",
            "Requirement already satisfied: six>=1.5 in /usr/local/lib/python3.7/dist-packages (from python-dateutil>=2.1->matplotlib>=3.0.0->ktrain) (1.15.0)\n",
            "Requirement already satisfied: zipp>=0.5 in /usr/local/lib/python3.7/dist-packages (from importlib-metadata->transformers==4.10.3->ktrain) (3.7.0)\n",
            "Requirement already satisfied: urllib3!=1.25.0,!=1.25.1,<1.26,>=1.21.1 in /usr/local/lib/python3.7/dist-packages (from requests->ktrain) (1.24.3)\n",
            "Requirement already satisfied: idna<3,>=2.5 in /usr/local/lib/python3.7/dist-packages (from requests->ktrain) (2.10)\n",
            "Requirement already satisfied: certifi>=2017.4.17 in /usr/local/lib/python3.7/dist-packages (from requests->ktrain) (2021.10.8)\n",
            "Requirement already satisfied: click in /usr/local/lib/python3.7/dist-packages (from sacremoses->transformers==4.10.3->ktrain) (7.1.2)\n",
            "Building wheels for collected packages: ktrain, seqeval, keras-bert, keras-transformer, keras-embed-sim, keras-layer-normalization, keras-multi-head, keras-pos-embd, keras-position-wise-feed-forward, keras-self-attention, langdetect\n",
            "  Building wheel for ktrain (setup.py) ... \u001b[?25l\u001b[?25hdone\n",
            "  Created wheel for ktrain: filename=ktrain-0.29.3-py3-none-any.whl size=25295410 sha256=a52d4db536c3ea1fe0aff2f53711c473cfaa340eca2f6c9d668336e0ca10b5b1\n",
            "  Stored in directory: /root/.cache/pip/wheels/04/d5/2a/1a1826e16685841c68a43c31c8a892452b105f9467f64e49e6\n",
            "  Building wheel for seqeval (setup.py) ... \u001b[?25l\u001b[?25hdone\n",
            "  Created wheel for seqeval: filename=seqeval-0.0.19-py3-none-any.whl size=9931 sha256=38b4cc0c9680ab7f5c46006a5d4b345387bad6979e1bce5d9f958de1126be268\n",
            "  Stored in directory: /root/.cache/pip/wheels/f5/ac/f1/4e13d7aff05c722d142b7d20a88ad63f9aab11b895411241a4\n",
            "  Building wheel for keras-bert (setup.py) ... \u001b[?25l\u001b[?25hdone\n",
            "  Created wheel for keras-bert: filename=keras_bert-0.89.0-py3-none-any.whl size=33517 sha256=36c824943886e50c400fe24faed35ddccac77e69290c9e5275cf04ea0408d3c4\n",
            "  Stored in directory: /root/.cache/pip/wheels/a4/e8/45/842b3a39831261aef9154b907eacbc4ac99499a99ae829b06f\n",
            "  Building wheel for keras-transformer (setup.py) ... \u001b[?25l\u001b[?25hdone\n",
            "  Created wheel for keras-transformer: filename=keras_transformer-0.40.0-py3-none-any.whl size=12305 sha256=a02415f3f9480f4f99de1cac35531b5b972efeddf3cf49087a81bea0e56351b2\n",
            "  Stored in directory: /root/.cache/pip/wheels/46/68/26/692ed21edd832833c3b0a0e21615bcacd99ca458b3f9ed571f\n",
            "  Building wheel for keras-embed-sim (setup.py) ... \u001b[?25l\u001b[?25hdone\n",
            "  Created wheel for keras-embed-sim: filename=keras_embed_sim-0.10.0-py3-none-any.whl size=3960 sha256=1d6639098b7f44e220e1c0e65c3ea49e5571f2e1b5882e75cfc17a9fc22db126\n",
            "  Stored in directory: /root/.cache/pip/wheels/81/67/b5/d847588d075895281e1cf5590f819bd4cf076a554872268bd5\n",
            "  Building wheel for keras-layer-normalization (setup.py) ... \u001b[?25l\u001b[?25hdone\n",
            "  Created wheel for keras-layer-normalization: filename=keras_layer_normalization-0.16.0-py3-none-any.whl size=4668 sha256=058d0af0484e8b6a747e037f28637cbaa3f4d92f1e3a9d8bbd98c4e485949d35\n",
            "  Stored in directory: /root/.cache/pip/wheels/85/5d/1c/2e619f594f69fbcf8bc20943b27d414871c409be053994813e\n",
            "  Building wheel for keras-multi-head (setup.py) ... \u001b[?25l\u001b[?25hdone\n",
            "  Created wheel for keras-multi-head: filename=keras_multi_head-0.29.0-py3-none-any.whl size=14993 sha256=706f98777c46ec41034c4ff0369e2a187272ac1e75017f5dd0a88782e954e8c1\n",
            "  Stored in directory: /root/.cache/pip/wheels/86/aa/3c/9d15d24005179dae08ff291ce99c754b296347817d076fd9fb\n",
            "  Building wheel for keras-pos-embd (setup.py) ... \u001b[?25l\u001b[?25hdone\n",
            "  Created wheel for keras-pos-embd: filename=keras_pos_embd-0.13.0-py3-none-any.whl size=6962 sha256=df8a9007de79d65b89c566a3fd73738529c72b07fe336c55b52b83f052e053be\n",
            "  Stored in directory: /root/.cache/pip/wheels/8d/c1/a0/dc44fcf68c857b7ff6be9a97e675e5adf51022eff1169b042f\n",
            "  Building wheel for keras-position-wise-feed-forward (setup.py) ... \u001b[?25l\u001b[?25hdone\n",
            "  Created wheel for keras-position-wise-feed-forward: filename=keras_position_wise_feed_forward-0.8.0-py3-none-any.whl size=4983 sha256=2549ee5b5aa36962e5f2365c393a1fb39fad28f9ae482f890405fa8fea4f1bfd\n",
            "  Stored in directory: /root/.cache/pip/wheels/c2/75/6f/d42f6e051506f442daeba53ff1e2d21a5f20ef8c411610f2bb\n",
            "  Building wheel for keras-self-attention (setup.py) ... \u001b[?25l\u001b[?25hdone\n",
            "  Created wheel for keras-self-attention: filename=keras_self_attention-0.51.0-py3-none-any.whl size=18912 sha256=4ad660c9648644481a81b8ed78abc2cb55e48f3cc32d16c32c6e37e163c81895\n",
            "  Stored in directory: /root/.cache/pip/wheels/95/b1/a8/5ee00cc137940b2f6fa198212e8f45d813d0e0d9c3a04035a3\n",
            "  Building wheel for langdetect (setup.py) ... \u001b[?25l\u001b[?25hdone\n",
            "  Created wheel for langdetect: filename=langdetect-1.0.9-py3-none-any.whl size=993242 sha256=7cb9d2c23cc001bfa30638db6ec982c3d9d57cecba21d39f44837c5c97f9852d\n",
            "  Stored in directory: /root/.cache/pip/wheels/c5/96/8a/f90c59ed25d75e50a8c10a1b1c2d4c402e4dacfa87f3aff36a\n",
            "Successfully built ktrain seqeval keras-bert keras-transformer keras-embed-sim keras-layer-normalization keras-multi-head keras-pos-embd keras-position-wise-feed-forward keras-self-attention langdetect\n",
            "Installing collected packages: keras-self-attention, pyyaml, keras-position-wise-feed-forward, keras-pos-embd, keras-multi-head, keras-layer-normalization, keras-embed-sim, tokenizers, sacremoses, keras-transformer, huggingface-hub, whoosh, transformers, syntok, seqeval, sentencepiece, scikit-learn, langdetect, keras-bert, cchardet, ktrain\n",
            "  Attempting uninstall: pyyaml\n",
            "    Found existing installation: PyYAML 3.13\n",
            "    Uninstalling PyYAML-3.13:\n",
            "      Successfully uninstalled PyYAML-3.13\n",
            "  Attempting uninstall: scikit-learn\n",
            "    Found existing installation: scikit-learn 1.0.2\n",
            "    Uninstalling scikit-learn-1.0.2:\n",
            "      Successfully uninstalled scikit-learn-1.0.2\n",
            "\u001b[31mERROR: pip's dependency resolver does not currently take into account all the packages that are installed. This behaviour is the source of the following dependency conflicts.\n",
            "yellowbrick 1.4 requires scikit-learn>=1.0.0, but you have scikit-learn 0.24.2 which is incompatible.\u001b[0m\n",
            "Successfully installed cchardet-2.1.7 huggingface-hub-0.4.0 keras-bert-0.89.0 keras-embed-sim-0.10.0 keras-layer-normalization-0.16.0 keras-multi-head-0.29.0 keras-pos-embd-0.13.0 keras-position-wise-feed-forward-0.8.0 keras-self-attention-0.51.0 keras-transformer-0.40.0 ktrain-0.29.3 langdetect-1.0.9 pyyaml-6.0 sacremoses-0.0.49 scikit-learn-0.24.2 sentencepiece-0.1.96 seqeval-0.0.19 syntok-1.3.3 tokenizers-0.10.3 transformers-4.10.3 whoosh-2.7.4\n"
          ]
        }
      ],
      "source": [
        "!pip install ktrain"
      ]
    },
    {
      "cell_type": "code",
      "execution_count": 2,
      "metadata": {
        "id": "RyOdW0gp5-iv"
      },
      "outputs": [],
      "source": [
        "import numpy as np\n",
        "import pandas as pd\n",
        "import json\n",
        "import ktrain\n"
      ]
    },
    {
      "cell_type": "code",
      "execution_count": 17,
      "metadata": {
        "id": "UsXE41up7EWz"
      },
      "outputs": [],
      "source": [
        "trainF = open('train.json')\n",
        "trainjson = json.load(trainF)\n",
        "\n",
        "valF = open('val.json')\n",
        "valjson = json.load(valF)\n",
        "\n",
        "testF = open('test.json')\n",
        "testjson = json.load(testF)\n"
      ]
    },
    {
      "cell_type": "code",
      "execution_count": 18,
      "metadata": {
        "id": "gEaYtfwn8dEs"
      },
      "outputs": [],
      "source": [
        "for row in trainjson:\n",
        "  l = len(row['video_sub_title'])\n",
        "  row['text'] = row['video_title'] +\" \"+ row['video_sub_title'][round(l/4):l]\n",
        "\n",
        "for row in valjson:\n",
        "  l = len(row['video_sub_title'])\n",
        "  row['text'] = row['video_title'] +\" \"+ row['video_sub_title'][round(l/4):l]\n",
        "\n",
        "for row in testjson:\n",
        "  l = len(row['video_sub_title'])\n",
        "  row['text'] = row['video_title'] +\" \"+ row['video_sub_title'][round(l/4):l]\n"
      ]
    },
    {
      "cell_type": "code",
      "source": [
        "train = pd.json_normalize(trainjson)\n",
        "val = pd.json_normalize(valjson)\n",
        "test = pd.json_normalize(testjson)\n",
        "\n"
      ],
      "metadata": {
        "id": "AhWRH0XusR_D"
      },
      "execution_count": 19,
      "outputs": []
    },
    {
      "cell_type": "code",
      "source": [
        "print(train)"
      ],
      "metadata": {
        "colab": {
          "base_uri": "https://localhost:8080/"
        },
        "id": "g8Peo96ftNDB",
        "outputId": "08fac83d-d91a-4ef9-b73d-5aee78622011"
      },
      "execution_count": 6,
      "outputs": [
        {
          "output_type": "stream",
          "name": "stdout",
          "text": [
            "         video_id                                   video_link  \\\n",
            "0     dnzpr6Yj29I  https://www.youtube.com/watch?v=dnzpr6Yj29I   \n",
            "1     nFc3ppL5faU  https://www.youtube.com/watch?v=nFc3ppL5faU   \n",
            "2     KmpHXlAR_R4  https://www.youtube.com/watch?v=KmpHXlAR_R4   \n",
            "3     7tsT8iFcBqE  https://www.youtube.com/watch?v=7tsT8iFcBqE   \n",
            "4     rMFDVLJKzCQ  https://www.youtube.com/watch?v=rMFDVLJKzCQ   \n",
            "...           ...                                          ...   \n",
            "4212  -9lL22o4DZg  https://www.youtube.com/watch?v=-9lL22o4DZg   \n",
            "4213  5KNWWUX38W0  https://www.youtube.com/watch?v=5KNWWUX38W0   \n",
            "4214  cS4Nz6FuEjw  https://www.youtube.com/watch?v=cS4Nz6FuEjw   \n",
            "4215  M34-NDKrik0  https://www.youtube.com/watch?v=M34-NDKrik0   \n",
            "4216  mv94XXKfGN4  https://www.youtube.com/watch?v=mv94XXKfGN4   \n",
            "\n",
            "                                            video_title  \\\n",
            "0                                   Cat Scratch Disease   \n",
            "1                              How to Increase Estrogen   \n",
            "2     How to reduce Elevated Creatinine Levels in bl...   \n",
            "3      7 Ways to Detox and Cleanse Your Liver Naturally   \n",
            "4                       Installing The Invisible Shield   \n",
            "...                                                 ...   \n",
            "4212  How Do You Treat a Choking Adult? New 2020 AHA...   \n",
            "4213         Ken The Living Doll | My Strange Addiction   \n",
            "4214                    Upper GI Bleed Causes- Overview   \n",
            "4215       Is it dangerous to run on a stress fracture?   \n",
            "4216                    EVA FOAM: Cutting for Beginners   \n",
            "\n",
            "                                        video_sub_title  \\\n",
            "0     cat scratch disease is the topic and essential...   \n",
            "1     low estrogen levels can affect your health and...   \n",
            "2                                                         \n",
            "3     what's up guys in this video we are going to d...   \n",
            "4     Gary some iphone in canada CA yeah it's guy in...   \n",
            "...                                                 ...   \n",
            "4212  [Music] in today's video we're going to review...   \n",
            "4213  I'm Justin jedlica I'm 32 years old and I'm a ...   \n",
            "4214  in this video we're going to look at causes di...   \n",
            "4215  Dok on the run we help injured runners run is ...   \n",
            "4216  what is this thing I read up on my head this t...   \n",
            "\n",
            "                          label  \\\n",
            "0     Medical Non-instructional   \n",
            "1     Medical Non-instructional   \n",
            "2     Medical Non-instructional   \n",
            "3     Medical Non-instructional   \n",
            "4                   Non-medical   \n",
            "...                         ...   \n",
            "4212      Medical Instructional   \n",
            "4213                Non-medical   \n",
            "4214  Medical Non-instructional   \n",
            "4215  Medical Non-instructional   \n",
            "4216                Non-medical   \n",
            "\n",
            "                                                   text  \n",
            "0     Cat Scratch Disease is would you do well there...  \n",
            "1     How to Increase Estrogen tant to stay healthy ...  \n",
            "2     How to reduce Elevated Creatinine Levels in bl...  \n",
            "3     7 Ways to Detox and Cleanse Your Liver Natural...  \n",
            "4     Installing The Invisible Shield  worked on a l...  \n",
            "...                                                 ...  \n",
            "4212  How Do You Treat a Choking Adult? New 2020 AHA...  \n",
            "4213  Ken The Living Doll | My Strange Addiction ed ...  \n",
            "4214  Upper GI Bleed Causes- Overview ngerous diagno...  \n",
            "4215  Is it dangerous to run on a stress fracture?  ...  \n",
            "4216  EVA FOAM: Cutting for Beginners  pretty well w...  \n",
            "\n",
            "[4217 rows x 6 columns]\n"
          ]
        }
      ]
    },
    {
      "cell_type": "code",
      "source": [
        "max_len = 512\n",
        "batch_size = 6\n",
        "learning_rate = 2e-5\n",
        "epochs = 2"
      ],
      "metadata": {
        "id": "7R3c_oVEumlI"
      },
      "execution_count": 7,
      "outputs": []
    },
    {
      "cell_type": "code",
      "source": [
        "# Transformer Model\n",
        "\n",
        "model_='emilyalsentzer/Bio_ClinicalBERT'\n",
        "\n",
        "from ktrain import text\n",
        "t_mod = text.Transformer(model_, maxlen=max_len, classes = [0,1])\n",
        "\n",
        "\n",
        "'''Converting split data to list [so it can processed]'''\n",
        "#train\n",
        "X_tr = train['text'].tolist()\n",
        "y_tr = train['label'].tolist()\n",
        "\n",
        "#test\n",
        "X_ts = val['text'].tolist()\n",
        "y_ts = val['label'].tolist()\n",
        "\n",
        "\n",
        "# Pre-processing training & test data\n",
        "train = t_mod.preprocess_train(X_tr,y_tr)\n",
        "test = t_mod.preprocess_train(X_ts,y_ts)\n",
        "\n",
        "# Model Classifier\n",
        "model = t_mod.get_classifier()\n",
        "\n",
        "learner = ktrain.get_learner(model, train_data=train, val_data=test, batch_size=batch_size)"
      ],
      "metadata": {
        "colab": {
          "base_uri": "https://localhost:8080/",
          "height": 510,
          "referenced_widgets": [
            "b4dea886ebea440daf30165c851f1996",
            "a3594ab8a8fa4549afffe9bf485c7af2",
            "e91b640e5f434f05a84c9413ce81a664",
            "4ad31fc649b3445fbb71c2a8d27a5c73",
            "4bf064a0788743e59845f6073b88af02",
            "e89a2a59ac6e4978af6182bd603dcd57",
            "b55df97c35c34433bbcdfb580eefc6b5",
            "69bbf517c2154e5491c1e6f9059c86d0",
            "d1f721ca8844497cb82cf0a492351b8a",
            "f91e1c643d38423ea590817f0285d676",
            "14613697af6244c786856e275134ec5d",
            "3feff115dbf643dfa3a1ef072321a709",
            "3a059c9ce68d4ed68f115f1c8829f7c1",
            "47b82ed6520948b3b2a43eb49fac5ade",
            "9c4d5fc6e74d4676977b7e3924ea40ed",
            "8771673204d042948a9366657655b2b7",
            "3762d870c29b4feb8a8d6dec27de2f22",
            "8768ae00a30945b38c66fd5e9823fc4f",
            "1126bd03300c46b792a8df56596f7a13",
            "0304874691e145149a2697b988ac513b",
            "955abf79f2e54bcfba4968aa8979545f",
            "bdd96e7df8564e08a7266d10b6ee81c4",
            "67fc5d1beb0e46cd90ebb2c1f44ef659",
            "0e056cf54d704c20b6e4ec76e8ebd6ae",
            "d4facb8fc30746b8bec24b1cd1cd4055",
            "df6c5b40d71746e5ae5847ffddef8f94",
            "8ffa798cff6d4631855c26952da158c9",
            "f65ed36787b443739d6c066c802dcd85",
            "2c7aed480f7d48cda8a5c3bae9705707",
            "92963f5b8d0c4c3db5f8ad5e1c41788c",
            "fb9bcaed21844e22a4589a81ffbcc2d1",
            "d28e0e11adae4f4cbc158b4ec89aa76b",
            "e182759801e14ff8afa5f035a168c601"
          ]
        },
        "id": "oMygqV9ZufiI",
        "outputId": "f7e7b357-fa1d-4b87-ec76-8ac431ea84d2"
      },
      "execution_count": 8,
      "outputs": [
        {
          "output_type": "stream",
          "name": "stderr",
          "text": [
            "/usr/local/lib/python3.7/dist-packages/ktrain/text/preprocessor.py:422: UserWarning: The class_names argument is replacing the classes argument. Please update your code.\n",
            "  warnings.warn('The class_names argument is replacing the classes argument. Please update your code.')\n"
          ]
        },
        {
          "output_type": "display_data",
          "data": {
            "text/plain": [
              "Downloading:   0%|          | 0.00/385 [00:00<?, ?B/s]"
            ],
            "application/vnd.jupyter.widget-view+json": {
              "version_major": 2,
              "version_minor": 0,
              "model_id": "b4dea886ebea440daf30165c851f1996"
            }
          },
          "metadata": {}
        },
        {
          "output_type": "stream",
          "name": "stdout",
          "text": [
            "preprocessing train...\n",
            "language: en\n",
            "train sequence lengths:\n",
            "\tmean : 627\n",
            "\t95percentile : 1676\n",
            "\t99percentile : 2175\n"
          ]
        },
        {
          "output_type": "stream",
          "name": "stderr",
          "text": [
            "/usr/local/lib/python3.7/dist-packages/ktrain/utils.py:621: UserWarning: class_names argument was ignored, as they were extracted from string labels in dataset\n",
            "  if self.get_classes(): warnings.warn('class_names argument was ignored, as they were extracted from string labels in dataset')\n"
          ]
        },
        {
          "output_type": "display_data",
          "data": {
            "text/plain": [
              "Downloading:   0%|          | 0.00/213k [00:00<?, ?B/s]"
            ],
            "application/vnd.jupyter.widget-view+json": {
              "version_major": 2,
              "version_minor": 0,
              "model_id": "3feff115dbf643dfa3a1ef072321a709"
            }
          },
          "metadata": {}
        },
        {
          "output_type": "display_data",
          "data": {
            "text/plain": [
              "<IPython.core.display.HTML object>"
            ],
            "text/html": [
              "\n",
              "<style>\n",
              "    /* Turns off some styling */\n",
              "    progress {\n",
              "        /* gets rid of default border in Firefox and Opera. */\n",
              "        border: none;\n",
              "        /* Needs to be in here for Safari polyfill so background images work as expected. */\n",
              "        background-size: auto;\n",
              "    }\n",
              "    .progress-bar-interrupted, .progress-bar-interrupted::-webkit-progress-bar {\n",
              "        background: #F44336;\n",
              "    }\n",
              "</style>\n"
            ]
          },
          "metadata": {}
        },
        {
          "output_type": "display_data",
          "data": {
            "text/plain": [
              "<IPython.core.display.HTML object>"
            ],
            "text/html": [
              ""
            ]
          },
          "metadata": {}
        },
        {
          "output_type": "stream",
          "name": "stdout",
          "text": [
            "Is Multi-Label? False\n",
            "preprocessing train...\n",
            "language: en\n",
            "train sequence lengths:\n",
            "\tmean : 609\n",
            "\t95percentile : 1554\n",
            "\t99percentile : 2122\n"
          ]
        },
        {
          "output_type": "display_data",
          "data": {
            "text/plain": [
              "<IPython.core.display.HTML object>"
            ],
            "text/html": [
              "\n",
              "<style>\n",
              "    /* Turns off some styling */\n",
              "    progress {\n",
              "        /* gets rid of default border in Firefox and Opera. */\n",
              "        border: none;\n",
              "        /* Needs to be in here for Safari polyfill so background images work as expected. */\n",
              "        background-size: auto;\n",
              "    }\n",
              "    .progress-bar-interrupted, .progress-bar-interrupted::-webkit-progress-bar {\n",
              "        background: #F44336;\n",
              "    }\n",
              "</style>\n"
            ]
          },
          "metadata": {}
        },
        {
          "output_type": "display_data",
          "data": {
            "text/plain": [
              "<IPython.core.display.HTML object>"
            ],
            "text/html": [
              ""
            ]
          },
          "metadata": {}
        },
        {
          "output_type": "stream",
          "name": "stderr",
          "text": [
            "404 Client Error: Not Found for url: https://huggingface.co/emilyalsentzer/Bio_ClinicalBERT/resolve/main/tf_model.h5\n"
          ]
        },
        {
          "output_type": "stream",
          "name": "stdout",
          "text": [
            "Is Multi-Label? False\n"
          ]
        },
        {
          "output_type": "stream",
          "name": "stderr",
          "text": [
            "/usr/local/lib/python3.7/dist-packages/ktrain/text/preprocessor.py:1069: UserWarning: Could not find Tensorflow version of model.  Attempting to download/load PyTorch version as TensorFlow model using from_pt=True. You will need PyTorch installed for this.\n",
            "  warnings.warn('Could not find Tensorflow version of model.  Attempting to download/load PyTorch version as TensorFlow model using from_pt=True. ' +\\\n"
          ]
        },
        {
          "output_type": "display_data",
          "data": {
            "text/plain": [
              "Downloading:   0%|          | 0.00/436M [00:00<?, ?B/s]"
            ],
            "application/vnd.jupyter.widget-view+json": {
              "version_major": 2,
              "version_minor": 0,
              "model_id": "67fc5d1beb0e46cd90ebb2c1f44ef659"
            }
          },
          "metadata": {}
        }
      ]
    },
    {
      "cell_type": "code",
      "source": [
        "learner.fit_onecycle(lr=learning_rate,epochs=3)"
      ],
      "metadata": {
        "colab": {
          "base_uri": "https://localhost:8080/"
        },
        "id": "k7tz4DHUuwcf",
        "outputId": "162e8477-47ec-48f3-a1c8-f770263528cb"
      },
      "execution_count": 9,
      "outputs": [
        {
          "output_type": "stream",
          "name": "stdout",
          "text": [
            "\n",
            "\n",
            "begin training using onecycle policy with max lr of 2e-05...\n",
            "Epoch 1/3\n",
            "703/703 [==============================] - 1066s 1s/step - loss: 0.5510 - accuracy: 0.7814 - val_loss: 0.3175 - val_accuracy: 0.8633\n",
            "Epoch 2/3\n",
            "703/703 [==============================] - 1038s 1s/step - loss: 0.3112 - accuracy: 0.8907 - val_loss: 0.2362 - val_accuracy: 0.9233\n",
            "Epoch 3/3\n",
            "703/703 [==============================] - 1037s 1s/step - loss: 0.1881 - accuracy: 0.9322 - val_loss: 0.2373 - val_accuracy: 0.9033\n"
          ]
        },
        {
          "output_type": "execute_result",
          "data": {
            "text/plain": [
              "<keras.callbacks.History at 0x7ff937308290>"
            ]
          },
          "metadata": {},
          "execution_count": 9
        }
      ]
    },
    {
      "cell_type": "code",
      "source": [
        "# from ktrain import text as text\n",
        "\n",
        "# (x_train, y_train), (x_test, y_test), preproc = text.texts_from_df(train_df=train,\n",
        "#                                                                    text_column = 'text',\n",
        "#                                                                    label_columns = 'label',\n",
        "#                                                                    val_df = val,\n",
        "#                                                                    maxlen = 256,\n",
        "#                                                                    preprocess_mode = 'bert')"
      ],
      "metadata": {
        "id": "7jDxCq4Wq0qb"
      },
      "execution_count": 10,
      "outputs": []
    },
    {
      "cell_type": "code",
      "source": [
        "# model = text.text_classifier(name='bert',\n",
        "#                              train_data=(x_train, y_train),\n",
        "#                              preproc=preproc)"
      ],
      "metadata": {
        "id": "KRWfe2t1rFVF"
      },
      "execution_count": 11,
      "outputs": []
    },
    {
      "cell_type": "code",
      "source": [
        "# learner = ktrain.get_learner(model=model,\n",
        "#                              train_data=(x_train, y_train),\n",
        "#                              batch_size=16)"
      ],
      "metadata": {
        "id": "Y3UXLmQwrHwn"
      },
      "execution_count": 12,
      "outputs": []
    },
    {
      "cell_type": "code",
      "source": [
        "# learner.fit_onecycle(lr=2e-5,epochs=1)"
      ],
      "metadata": {
        "id": "s-pYDDnirM8q"
      },
      "execution_count": 13,
      "outputs": []
    },
    {
      "cell_type": "code",
      "source": [
        "predictor = ktrain.get_predictor(learner.model, t_mod)"
      ],
      "metadata": {
        "id": "-W9ewSMSrSmI"
      },
      "execution_count": 14,
      "outputs": []
    },
    {
      "cell_type": "code",
      "source": [
        "y_predict = predictor.predict(np.asarray(test['text']))"
      ],
      "metadata": {
        "id": "xOFJhABqrTMK"
      },
      "execution_count": 20,
      "outputs": []
    },
    {
      "cell_type": "code",
      "source": [
        "print(y_predict)"
      ],
      "metadata": {
        "colab": {
          "base_uri": "https://localhost:8080/"
        },
        "id": "binqReglrW39",
        "outputId": "c12d31d3-12cb-4364-ae25-2a700719c928"
      },
      "execution_count": 21,
      "outputs": [
        {
          "output_type": "stream",
          "name": "stdout",
          "text": [
            "['Medical Non-instructional', 'Medical Non-instructional', 'Medical Non-instructional', 'Medical Non-instructional', 'Non-medical', 'Medical Instructional', 'Non-medical', 'Medical Non-instructional', 'Medical Instructional', 'Medical Instructional', 'Medical Non-instructional', 'Medical Non-instructional', 'Medical Non-instructional', 'Medical Non-instructional', 'Medical Instructional', 'Non-medical', 'Medical Non-instructional', 'Medical Instructional', 'Medical Non-instructional', 'Medical Non-instructional', 'Non-medical', 'Non-medical', 'Medical Non-instructional', 'Medical Non-instructional', 'Medical Non-instructional', 'Medical Instructional', 'Non-medical', 'Medical Non-instructional', 'Medical Non-instructional', 'Medical Non-instructional', 'Medical Non-instructional', 'Medical Instructional', 'Non-medical', 'Non-medical', 'Medical Non-instructional', 'Medical Instructional', 'Medical Instructional', 'Medical Instructional', 'Medical Non-instructional', 'Medical Non-instructional', 'Medical Non-instructional', 'Medical Instructional', 'Non-medical', 'Medical Non-instructional', 'Medical Instructional', 'Non-medical', 'Medical Non-instructional', 'Non-medical', 'Medical Non-instructional', 'Medical Instructional', 'Medical Instructional', 'Medical Instructional', 'Non-medical', 'Non-medical', 'Non-medical', 'Medical Instructional', 'Medical Non-instructional', 'Medical Instructional', 'Medical Instructional', 'Medical Non-instructional', 'Medical Non-instructional', 'Non-medical', 'Medical Non-instructional', 'Medical Instructional', 'Medical Instructional', 'Medical Instructional', 'Non-medical', 'Non-medical', 'Medical Non-instructional', 'Medical Instructional', 'Medical Non-instructional', 'Medical Instructional', 'Medical Non-instructional', 'Medical Non-instructional', 'Non-medical', 'Medical Instructional', 'Non-medical', 'Medical Instructional', 'Non-medical', 'Medical Non-instructional', 'Medical Non-instructional', 'Medical Instructional', 'Medical Instructional', 'Medical Instructional', 'Medical Instructional', 'Medical Non-instructional', 'Non-medical', 'Non-medical', 'Medical Non-instructional', 'Medical Instructional', 'Medical Instructional', 'Non-medical', 'Medical Instructional', 'Medical Non-instructional', 'Medical Instructional', 'Medical Non-instructional', 'Non-medical', 'Non-medical', 'Medical Non-instructional', 'Medical Non-instructional', 'Medical Non-instructional', 'Medical Instructional', 'Medical Non-instructional', 'Non-medical', 'Non-medical', 'Medical Non-instructional', 'Medical Instructional', 'Medical Non-instructional', 'Medical Non-instructional', 'Medical Instructional', 'Medical Non-instructional', 'Non-medical', 'Non-medical', 'Non-medical', 'Medical Instructional', 'Non-medical', 'Medical Instructional', 'Non-medical', 'Medical Non-instructional', 'Non-medical', 'Medical Non-instructional', 'Non-medical', 'Medical Non-instructional', 'Medical Instructional', 'Medical Non-instructional', 'Medical Non-instructional', 'Medical Non-instructional', 'Medical Non-instructional', 'Non-medical', 'Non-medical', 'Medical Non-instructional', 'Medical Non-instructional', 'Non-medical', 'Non-medical', 'Medical Non-instructional', 'Medical Non-instructional', 'Medical Non-instructional', 'Medical Instructional', 'Non-medical', 'Non-medical', 'Non-medical', 'Medical Instructional', 'Medical Non-instructional', 'Non-medical', 'Medical Non-instructional', 'Medical Non-instructional', 'Medical Non-instructional', 'Non-medical', 'Medical Instructional', 'Non-medical', 'Non-medical', 'Medical Non-instructional', 'Medical Non-instructional', 'Medical Instructional', 'Non-medical', 'Medical Instructional', 'Medical Instructional', 'Medical Instructional', 'Non-medical', 'Medical Non-instructional', 'Medical Instructional', 'Non-medical', 'Medical Instructional', 'Medical Non-instructional', 'Medical Non-instructional', 'Non-medical', 'Medical Non-instructional', 'Medical Non-instructional', 'Non-medical', 'Medical Instructional', 'Medical Non-instructional', 'Medical Instructional', 'Medical Non-instructional', 'Medical Instructional', 'Medical Non-instructional', 'Non-medical', 'Non-medical', 'Non-medical', 'Non-medical', 'Medical Non-instructional', 'Medical Instructional', 'Medical Non-instructional', 'Medical Instructional', 'Medical Instructional', 'Non-medical', 'Medical Instructional', 'Medical Non-instructional', 'Non-medical', 'Medical Non-instructional', 'Medical Instructional', 'Non-medical', 'Non-medical', 'Medical Non-instructional', 'Non-medical', 'Medical Non-instructional', 'Medical Non-instructional', 'Medical Non-instructional', 'Medical Non-instructional', 'Medical Non-instructional', 'Medical Instructional', 'Medical Non-instructional', 'Non-medical', 'Non-medical', 'Medical Non-instructional', 'Medical Non-instructional', 'Medical Non-instructional', 'Medical Instructional', 'Non-medical', 'Medical Instructional', 'Medical Non-instructional', 'Non-medical', 'Medical Instructional', 'Medical Non-instructional', 'Medical Non-instructional', 'Non-medical', 'Non-medical', 'Medical Non-instructional', 'Non-medical', 'Medical Instructional', 'Non-medical', 'Medical Non-instructional', 'Medical Instructional', 'Non-medical', 'Medical Instructional', 'Medical Non-instructional', 'Medical Instructional', 'Medical Non-instructional', 'Medical Instructional', 'Medical Non-instructional', 'Medical Instructional', 'Medical Instructional', 'Medical Instructional', 'Medical Instructional', 'Medical Non-instructional', 'Medical Instructional', 'Medical Non-instructional', 'Medical Non-instructional', 'Non-medical', 'Medical Non-instructional', 'Medical Non-instructional', 'Non-medical', 'Medical Instructional', 'Non-medical', 'Medical Non-instructional', 'Medical Non-instructional', 'Medical Instructional', 'Medical Non-instructional', 'Medical Non-instructional', 'Non-medical', 'Non-medical', 'Medical Instructional', 'Medical Instructional', 'Medical Non-instructional', 'Medical Non-instructional', 'Non-medical', 'Non-medical', 'Medical Non-instructional', 'Medical Non-instructional', 'Medical Instructional', 'Medical Non-instructional', 'Non-medical', 'Medical Non-instructional', 'Medical Instructional', 'Medical Instructional', 'Non-medical', 'Medical Instructional', 'Medical Instructional', 'Non-medical', 'Medical Non-instructional', 'Medical Non-instructional', 'Medical Instructional', 'Medical Non-instructional', 'Medical Instructional', 'Medical Instructional', 'Medical Instructional', 'Medical Instructional', 'Medical Non-instructional', 'Medical Instructional', 'Medical Instructional', 'Non-medical', 'Medical Non-instructional', 'Medical Instructional', 'Medical Non-instructional', 'Medical Instructional', 'Medical Instructional', 'Medical Instructional', 'Non-medical', 'Medical Non-instructional', 'Medical Instructional', 'Non-medical', 'Medical Non-instructional', 'Medical Instructional', 'Medical Non-instructional', 'Medical Instructional', 'Non-medical', 'Medical Instructional', 'Non-medical', 'Medical Instructional', 'Medical Instructional', 'Non-medical', 'Medical Non-instructional', 'Medical Instructional', 'Non-medical', 'Medical Non-instructional', 'Medical Instructional', 'Medical Non-instructional', 'Medical Non-instructional', 'Medical Non-instructional', 'Medical Non-instructional', 'Non-medical', 'Medical Non-instructional', 'Medical Instructional', 'Medical Non-instructional', 'Medical Non-instructional', 'Medical Instructional', 'Medical Instructional', 'Medical Instructional', 'Medical Non-instructional', 'Medical Non-instructional', 'Medical Instructional', 'Medical Non-instructional', 'Non-medical', 'Medical Instructional', 'Medical Non-instructional', 'Medical Instructional', 'Medical Non-instructional', 'Medical Instructional', 'Medical Non-instructional', 'Non-medical', 'Medical Instructional', 'Non-medical', 'Medical Non-instructional', 'Medical Non-instructional', 'Medical Non-instructional', 'Medical Non-instructional', 'Medical Instructional', 'Non-medical', 'Non-medical', 'Medical Instructional', 'Medical Instructional', 'Non-medical', 'Non-medical', 'Non-medical', 'Medical Non-instructional', 'Medical Non-instructional', 'Non-medical', 'Non-medical', 'Medical Non-instructional', 'Medical Instructional', 'Medical Instructional', 'Medical Non-instructional', 'Medical Non-instructional', 'Medical Non-instructional', 'Medical Non-instructional', 'Medical Non-instructional', 'Non-medical', 'Medical Non-instructional', 'Medical Instructional', 'Medical Non-instructional', 'Medical Instructional', 'Medical Instructional', 'Medical Non-instructional', 'Non-medical', 'Medical Instructional', 'Medical Non-instructional', 'Medical Non-instructional', 'Medical Non-instructional', 'Non-medical', 'Non-medical', 'Medical Instructional', 'Non-medical', 'Medical Non-instructional', 'Medical Non-instructional', 'Non-medical', 'Medical Non-instructional', 'Non-medical', 'Non-medical', 'Non-medical', 'Medical Instructional', 'Medical Instructional', 'Medical Instructional', 'Medical Instructional', 'Non-medical', 'Medical Non-instructional', 'Medical Instructional', 'Medical Non-instructional', 'Medical Non-instructional', 'Non-medical', 'Medical Non-instructional', 'Non-medical', 'Medical Non-instructional', 'Medical Non-instructional', 'Medical Non-instructional', 'Medical Non-instructional', 'Non-medical', 'Medical Instructional', 'Medical Instructional', 'Medical Non-instructional', 'Medical Non-instructional', 'Medical Instructional', 'Medical Instructional', 'Medical Non-instructional', 'Medical Instructional', 'Medical Instructional', 'Medical Non-instructional', 'Medical Instructional', 'Medical Non-instructional', 'Non-medical', 'Medical Non-instructional', 'Medical Non-instructional', 'Medical Non-instructional', 'Non-medical', 'Medical Non-instructional', 'Medical Non-instructional', 'Non-medical', 'Medical Non-instructional', 'Medical Non-instructional', 'Medical Non-instructional', 'Medical Non-instructional', 'Medical Instructional', 'Medical Non-instructional', 'Medical Instructional', 'Medical Instructional', 'Medical Non-instructional', 'Medical Non-instructional', 'Non-medical', 'Medical Non-instructional', 'Medical Non-instructional', 'Medical Instructional', 'Non-medical', 'Medical Instructional', 'Medical Instructional', 'Medical Instructional', 'Non-medical', 'Non-medical', 'Medical Non-instructional', 'Medical Non-instructional', 'Non-medical', 'Non-medical', 'Medical Non-instructional', 'Non-medical', 'Medical Instructional', 'Medical Non-instructional', 'Non-medical', 'Non-medical', 'Medical Non-instructional', 'Non-medical', 'Non-medical', 'Non-medical', 'Medical Instructional', 'Medical Non-instructional', 'Medical Non-instructional', 'Medical Instructional', 'Non-medical', 'Medical Non-instructional', 'Medical Non-instructional', 'Medical Non-instructional', 'Non-medical', 'Medical Instructional', 'Medical Non-instructional', 'Medical Instructional', 'Medical Instructional', 'Non-medical', 'Medical Instructional', 'Non-medical', 'Medical Non-instructional', 'Medical Non-instructional', 'Medical Instructional', 'Medical Instructional', 'Medical Instructional', 'Medical Instructional', 'Non-medical', 'Medical Instructional', 'Medical Instructional', 'Non-medical', 'Medical Non-instructional', 'Non-medical', 'Non-medical', 'Medical Non-instructional', 'Medical Non-instructional', 'Medical Instructional', 'Medical Non-instructional', 'Non-medical', 'Medical Instructional', 'Medical Instructional', 'Medical Instructional', 'Medical Instructional', 'Medical Instructional', 'Medical Instructional', 'Medical Non-instructional', 'Non-medical', 'Non-medical', 'Medical Non-instructional', 'Medical Instructional', 'Medical Non-instructional', 'Medical Non-instructional', 'Medical Non-instructional', 'Medical Instructional', 'Medical Instructional', 'Medical Instructional', 'Non-medical', 'Medical Instructional', 'Medical Non-instructional', 'Medical Non-instructional', 'Medical Instructional', 'Medical Non-instructional', 'Medical Instructional', 'Medical Non-instructional', 'Medical Non-instructional', 'Medical Non-instructional', 'Medical Instructional', 'Non-medical', 'Medical Instructional', 'Non-medical', 'Medical Instructional', 'Non-medical', 'Medical Non-instructional', 'Non-medical', 'Medical Instructional', 'Medical Non-instructional', 'Medical Non-instructional', 'Medical Non-instructional', 'Medical Non-instructional', 'Medical Non-instructional', 'Medical Instructional', 'Medical Instructional', 'Medical Instructional', 'Medical Instructional', 'Medical Instructional', 'Medical Non-instructional', 'Non-medical', 'Non-medical', 'Medical Non-instructional', 'Medical Instructional', 'Medical Non-instructional', 'Medical Non-instructional', 'Medical Non-instructional', 'Non-medical', 'Medical Non-instructional', 'Non-medical', 'Medical Non-instructional', 'Medical Non-instructional', 'Medical Non-instructional', 'Non-medical', 'Medical Non-instructional', 'Medical Instructional', 'Non-medical', 'Medical Instructional', 'Non-medical', 'Medical Instructional', 'Medical Non-instructional', 'Medical Instructional', 'Medical Instructional', 'Medical Instructional', 'Non-medical', 'Non-medical', 'Non-medical', 'Medical Non-instructional', 'Medical Instructional', 'Medical Non-instructional', 'Medical Non-instructional', 'Medical Instructional', 'Non-medical', 'Medical Instructional', 'Medical Non-instructional', 'Medical Non-instructional', 'Non-medical', 'Medical Non-instructional', 'Medical Non-instructional', 'Medical Non-instructional', 'Non-medical', 'Medical Instructional', 'Medical Non-instructional', 'Non-medical', 'Non-medical', 'Medical Non-instructional', 'Medical Instructional', 'Non-medical', 'Medical Non-instructional', 'Non-medical', 'Medical Non-instructional', 'Medical Non-instructional', 'Non-medical', 'Non-medical', 'Medical Instructional', 'Medical Instructional', 'Medical Non-instructional', 'Medical Instructional', 'Medical Non-instructional', 'Medical Non-instructional', 'Non-medical', 'Medical Non-instructional', 'Medical Non-instructional', 'Medical Instructional', 'Non-medical', 'Medical Instructional', 'Non-medical', 'Non-medical', 'Medical Non-instructional', 'Non-medical', 'Non-medical', 'Medical Non-instructional', 'Medical Instructional', 'Medical Instructional', 'Non-medical', 'Medical Non-instructional', 'Medical Instructional', 'Medical Instructional', 'Non-medical', 'Non-medical', 'Medical Instructional', 'Medical Instructional', 'Non-medical', 'Non-medical', 'Non-medical', 'Non-medical', 'Medical Non-instructional', 'Medical Non-instructional', 'Non-medical', 'Non-medical', 'Medical Instructional', 'Medical Instructional', 'Non-medical', 'Medical Instructional', 'Non-medical', 'Medical Instructional', 'Medical Non-instructional', 'Medical Non-instructional', 'Medical Non-instructional', 'Medical Instructional', 'Non-medical', 'Medical Non-instructional', 'Medical Non-instructional', 'Non-medical', 'Non-medical', 'Non-medical', 'Medical Instructional', 'Medical Non-instructional', 'Medical Instructional', 'Non-medical', 'Non-medical', 'Medical Non-instructional', 'Non-medical', 'Medical Instructional', 'Medical Instructional', 'Medical Non-instructional', 'Non-medical', 'Medical Instructional', 'Non-medical', 'Medical Non-instructional', 'Medical Non-instructional', 'Non-medical', 'Medical Instructional', 'Medical Instructional', 'Medical Instructional', 'Medical Instructional', 'Medical Instructional', 'Medical Instructional', 'Medical Non-instructional', 'Medical Instructional', 'Non-medical', 'Medical Non-instructional', 'Medical Non-instructional', 'Medical Non-instructional', 'Non-medical', 'Non-medical', 'Medical Non-instructional', 'Non-medical', 'Non-medical', 'Non-medical', 'Non-medical', 'Non-medical', 'Medical Non-instructional', 'Non-medical', 'Medical Non-instructional', 'Medical Instructional', 'Non-medical', 'Medical Non-instructional', 'Non-medical', 'Medical Non-instructional', 'Medical Instructional', 'Non-medical', 'Medical Instructional', 'Medical Non-instructional', 'Medical Instructional', 'Non-medical', 'Medical Non-instructional', 'Medical Instructional', 'Medical Non-instructional', 'Medical Non-instructional', 'Medical Instructional', 'Medical Non-instructional', 'Non-medical', 'Non-medical', 'Medical Instructional', 'Non-medical', 'Medical Non-instructional', 'Medical Instructional', 'Medical Instructional', 'Medical Instructional', 'Medical Non-instructional', 'Medical Non-instructional', 'Medical Instructional', 'Medical Non-instructional', 'Non-medical', 'Medical Non-instructional', 'Medical Non-instructional', 'Medical Instructional', 'Medical Instructional', 'Medical Non-instructional', 'Non-medical', 'Medical Non-instructional', 'Medical Non-instructional', 'Medical Instructional', 'Non-medical', 'Medical Non-instructional', 'Medical Instructional', 'Medical Instructional', 'Non-medical', 'Medical Instructional', 'Medical Non-instructional', 'Non-medical', 'Medical Non-instructional', 'Medical Instructional', 'Non-medical', 'Medical Non-instructional', 'Medical Instructional', 'Medical Non-instructional', 'Medical Non-instructional', 'Medical Non-instructional', 'Medical Instructional', 'Medical Instructional', 'Medical Non-instructional', 'Non-medical', 'Medical Non-instructional', 'Non-medical', 'Non-medical', 'Non-medical', 'Medical Non-instructional', 'Non-medical', 'Medical Instructional', 'Medical Non-instructional', 'Medical Instructional', 'Medical Non-instructional', 'Medical Non-instructional', 'Medical Non-instructional', 'Medical Instructional', 'Medical Non-instructional', 'Medical Non-instructional', 'Medical Non-instructional', 'Medical Non-instructional', 'Medical Non-instructional', 'Medical Non-instructional', 'Medical Non-instructional', 'Medical Instructional', 'Non-medical', 'Medical Non-instructional', 'Non-medical', 'Non-medical', 'Non-medical', 'Non-medical', 'Medical Non-instructional', 'Medical Non-instructional', 'Medical Instructional', 'Non-medical', 'Medical Non-instructional', 'Non-medical', 'Non-medical', 'Medical Non-instructional', 'Medical Instructional', 'Medical Non-instructional', 'Medical Instructional', 'Medical Non-instructional', 'Non-medical', 'Medical Instructional', 'Medical Non-instructional', 'Medical Instructional', 'Non-medical', 'Medical Non-instructional', 'Medical Instructional', 'Medical Instructional', 'Non-medical', 'Non-medical', 'Medical Non-instructional', 'Medical Non-instructional', 'Medical Instructional', 'Medical Instructional', 'Medical Non-instructional', 'Non-medical', 'Medical Non-instructional', 'Medical Non-instructional', 'Non-medical', 'Non-medical', 'Medical Non-instructional', 'Medical Instructional', 'Medical Instructional', 'Non-medical', 'Medical Non-instructional', 'Non-medical', 'Non-medical', 'Non-medical', 'Medical Non-instructional', 'Medical Instructional', 'Medical Non-instructional', 'Medical Instructional', 'Medical Instructional', 'Medical Instructional', 'Medical Instructional', 'Non-medical', 'Medical Non-instructional', 'Medical Non-instructional', 'Medical Instructional', 'Non-medical', 'Medical Non-instructional', 'Non-medical', 'Medical Non-instructional', 'Medical Instructional', 'Non-medical', 'Medical Non-instructional', 'Medical Non-instructional', 'Non-medical', 'Non-medical', 'Medical Instructional', 'Medical Instructional', 'Non-medical', 'Medical Instructional', 'Non-medical', 'Non-medical', 'Medical Instructional', 'Medical Instructional', 'Medical Non-instructional', 'Non-medical', 'Medical Instructional', 'Medical Non-instructional', 'Medical Non-instructional', 'Medical Non-instructional', 'Non-medical', 'Medical Instructional', 'Medical Instructional', 'Medical Instructional', 'Medical Instructional', 'Non-medical', 'Medical Instructional', 'Medical Non-instructional', 'Medical Non-instructional', 'Non-medical', 'Medical Instructional', 'Medical Instructional', 'Medical Instructional', 'Medical Non-instructional', 'Medical Non-instructional', 'Non-medical', 'Non-medical', 'Medical Non-instructional', 'Medical Non-instructional', 'Non-medical', 'Medical Instructional', 'Medical Instructional', 'Medical Instructional', 'Non-medical', 'Medical Instructional', 'Medical Non-instructional', 'Medical Non-instructional', 'Medical Non-instructional', 'Medical Non-instructional', 'Medical Non-instructional', 'Medical Instructional', 'Medical Non-instructional', 'Medical Non-instructional', 'Medical Instructional', 'Medical Instructional', 'Medical Instructional', 'Medical Instructional', 'Medical Instructional', 'Medical Non-instructional', 'Medical Non-instructional', 'Non-medical', 'Medical Instructional', 'Medical Non-instructional', 'Medical Non-instructional', 'Medical Non-instructional', 'Medical Instructional', 'Medical Instructional', 'Medical Instructional', 'Medical Non-instructional', 'Medical Non-instructional', 'Medical Non-instructional', 'Non-medical', 'Medical Non-instructional', 'Non-medical', 'Medical Instructional', 'Medical Non-instructional', 'Medical Instructional', 'Medical Non-instructional', 'Non-medical', 'Medical Non-instructional', 'Medical Instructional', 'Medical Instructional', 'Medical Instructional', 'Medical Instructional', 'Medical Instructional', 'Medical Non-instructional', 'Medical Non-instructional', 'Medical Non-instructional', 'Non-medical', 'Medical Instructional', 'Medical Instructional', 'Medical Non-instructional', 'Medical Non-instructional', 'Non-medical', 'Non-medical', 'Medical Non-instructional', 'Medical Non-instructional', 'Medical Non-instructional', 'Medical Instructional', 'Medical Non-instructional', 'Non-medical', 'Medical Instructional', 'Medical Non-instructional', 'Medical Non-instructional', 'Medical Instructional', 'Medical Instructional', 'Medical Instructional', 'Non-medical', 'Medical Non-instructional', 'Medical Instructional', 'Non-medical', 'Non-medical', 'Medical Non-instructional', 'Medical Instructional', 'Medical Non-instructional', 'Medical Instructional', 'Medical Non-instructional', 'Medical Non-instructional', 'Medical Instructional', 'Medical Instructional', 'Medical Non-instructional', 'Medical Non-instructional', 'Medical Instructional', 'Medical Non-instructional', 'Non-medical', 'Medical Non-instructional', 'Medical Non-instructional', 'Non-medical', 'Medical Non-instructional', 'Medical Instructional', 'Non-medical', 'Medical Non-instructional', 'Non-medical', 'Medical Instructional', 'Non-medical', 'Medical Non-instructional', 'Medical Instructional', 'Medical Instructional', 'Non-medical', 'Non-medical', 'Medical Instructional', 'Medical Non-instructional', 'Medical Non-instructional', 'Medical Instructional', 'Medical Instructional', 'Non-medical', 'Non-medical', 'Medical Instructional', 'Medical Instructional', 'Medical Instructional', 'Medical Non-instructional', 'Medical Instructional', 'Medical Non-instructional', 'Non-medical', 'Medical Non-instructional', 'Non-medical', 'Medical Instructional', 'Medical Non-instructional', 'Medical Non-instructional', 'Medical Non-instructional', 'Medical Non-instructional', 'Non-medical', 'Non-medical', 'Medical Non-instructional', 'Medical Instructional', 'Medical Instructional', 'Medical Non-instructional', 'Medical Non-instructional', 'Medical Instructional', 'Non-medical', 'Non-medical', 'Non-medical', 'Non-medical', 'Medical Non-instructional', 'Non-medical', 'Medical Instructional', 'Non-medical', 'Medical Non-instructional', 'Non-medical', 'Medical Instructional', 'Medical Non-instructional', 'Medical Instructional', 'Medical Non-instructional', 'Medical Non-instructional', 'Medical Non-instructional', 'Medical Non-instructional', 'Medical Non-instructional', 'Medical Non-instructional', 'Medical Non-instructional', 'Non-medical', 'Non-medical', 'Medical Non-instructional', 'Non-medical', 'Medical Instructional', 'Medical Non-instructional', 'Medical Non-instructional', 'Non-medical', 'Medical Instructional', 'Non-medical', 'Medical Non-instructional', 'Medical Non-instructional', 'Medical Non-instructional', 'Medical Non-instructional', 'Medical Non-instructional', 'Medical Instructional', 'Medical Non-instructional', 'Medical Instructional', 'Non-medical', 'Medical Non-instructional', 'Non-medical', 'Non-medical', 'Non-medical', 'Medical Non-instructional', 'Non-medical', 'Non-medical', 'Non-medical', 'Medical Instructional', 'Medical Non-instructional', 'Medical Non-instructional', 'Medical Non-instructional', 'Medical Instructional', 'Medical Instructional', 'Medical Instructional', 'Non-medical', 'Non-medical', 'Medical Non-instructional', 'Medical Instructional', 'Non-medical', 'Non-medical', 'Medical Non-instructional', 'Medical Non-instructional', 'Medical Non-instructional', 'Medical Instructional', 'Medical Non-instructional', 'Medical Non-instructional', 'Medical Non-instructional', 'Medical Instructional', 'Medical Instructional', 'Medical Instructional', 'Non-medical', 'Medical Instructional', 'Non-medical', 'Medical Instructional', 'Medical Instructional', 'Medical Non-instructional', 'Non-medical', 'Medical Non-instructional', 'Medical Non-instructional', 'Medical Non-instructional', 'Medical Instructional', 'Medical Non-instructional', 'Non-medical', 'Medical Non-instructional', 'Medical Instructional', 'Medical Non-instructional', 'Medical Instructional', 'Non-medical', 'Medical Instructional', 'Non-medical', 'Medical Instructional', 'Medical Instructional', 'Non-medical', 'Non-medical', 'Medical Non-instructional', 'Medical Non-instructional', 'Medical Non-instructional', 'Medical Non-instructional', 'Non-medical', 'Medical Instructional', 'Medical Non-instructional', 'Non-medical', 'Medical Non-instructional', 'Medical Non-instructional', 'Medical Instructional', 'Medical Non-instructional', 'Medical Instructional', 'Non-medical', 'Medical Instructional', 'Medical Instructional', 'Non-medical', 'Medical Non-instructional', 'Medical Non-instructional', 'Medical Non-instructional', 'Medical Non-instructional', 'Medical Non-instructional', 'Medical Non-instructional', 'Medical Non-instructional', 'Medical Non-instructional', 'Medical Instructional', 'Medical Instructional', 'Medical Non-instructional', 'Medical Instructional', 'Medical Instructional', 'Medical Non-instructional', 'Medical Instructional', 'Medical Instructional', 'Non-medical', 'Non-medical', 'Medical Instructional', 'Medical Non-instructional', 'Medical Non-instructional', 'Medical Non-instructional', 'Non-medical', 'Medical Instructional', 'Medical Non-instructional', 'Medical Instructional', 'Medical Non-instructional', 'Medical Non-instructional', 'Medical Non-instructional', 'Medical Instructional', 'Medical Non-instructional', 'Non-medical', 'Non-medical', 'Medical Instructional', 'Medical Instructional', 'Medical Instructional', 'Medical Non-instructional', 'Medical Instructional', 'Medical Non-instructional', 'Medical Non-instructional', 'Non-medical', 'Medical Non-instructional', 'Non-medical', 'Non-medical', 'Non-medical', 'Non-medical', 'Medical Non-instructional', 'Non-medical', 'Medical Instructional', 'Medical Non-instructional', 'Non-medical', 'Medical Instructional', 'Medical Non-instructional', 'Medical Non-instructional', 'Medical Instructional', 'Medical Instructional', 'Non-medical', 'Non-medical', 'Non-medical', 'Medical Non-instructional', 'Medical Non-instructional', 'Non-medical', 'Non-medical', 'Medical Instructional', 'Non-medical', 'Medical Non-instructional', 'Medical Instructional', 'Medical Instructional', 'Non-medical', 'Medical Non-instructional', 'Non-medical', 'Non-medical', 'Non-medical', 'Non-medical', 'Non-medical', 'Non-medical', 'Non-medical', 'Non-medical', 'Medical Non-instructional', 'Medical Non-instructional', 'Non-medical', 'Medical Instructional', 'Non-medical', 'Non-medical', 'Medical Instructional', 'Non-medical', 'Non-medical', 'Medical Instructional', 'Medical Non-instructional', 'Medical Non-instructional', 'Medical Non-instructional', 'Non-medical', 'Non-medical', 'Non-medical', 'Medical Instructional', 'Medical Non-instructional', 'Non-medical', 'Medical Instructional', 'Medical Non-instructional', 'Medical Instructional', 'Medical Instructional', 'Medical Non-instructional', 'Medical Non-instructional', 'Medical Non-instructional', 'Non-medical', 'Medical Instructional', 'Non-medical', 'Medical Non-instructional', 'Non-medical', 'Medical Non-instructional', 'Medical Non-instructional', 'Medical Instructional', 'Medical Instructional', 'Non-medical', 'Medical Non-instructional', 'Non-medical', 'Medical Non-instructional', 'Medical Instructional', 'Medical Non-instructional', 'Medical Non-instructional', 'Non-medical', 'Non-medical', 'Medical Instructional', 'Medical Non-instructional', 'Medical Non-instructional', 'Non-medical', 'Non-medical', 'Non-medical', 'Medical Non-instructional', 'Medical Instructional', 'Non-medical', 'Non-medical', 'Medical Instructional', 'Non-medical', 'Non-medical', 'Non-medical', 'Medical Non-instructional', 'Medical Instructional', 'Medical Instructional', 'Medical Instructional', 'Medical Non-instructional', 'Non-medical', 'Non-medical', 'Medical Non-instructional', 'Medical Instructional', 'Medical Instructional', 'Medical Non-instructional', 'Non-medical', 'Medical Instructional', 'Non-medical', 'Medical Non-instructional', 'Medical Non-instructional', 'Non-medical', 'Non-medical', 'Medical Non-instructional', 'Medical Instructional', 'Medical Non-instructional', 'Non-medical', 'Medical Instructional', 'Medical Instructional', 'Medical Non-instructional', 'Non-medical', 'Medical Non-instructional', 'Non-medical', 'Medical Non-instructional', 'Medical Instructional', 'Medical Instructional', 'Medical Non-instructional', 'Non-medical', 'Medical Non-instructional', 'Medical Non-instructional', 'Medical Instructional', 'Non-medical', 'Medical Non-instructional', 'Non-medical', 'Medical Non-instructional', 'Medical Non-instructional', 'Non-medical', 'Non-medical', 'Medical Non-instructional', 'Non-medical', 'Medical Instructional', 'Medical Instructional', 'Non-medical', 'Non-medical', 'Non-medical', 'Medical Non-instructional', 'Medical Non-instructional', 'Non-medical', 'Medical Instructional', 'Non-medical', 'Non-medical', 'Non-medical', 'Medical Instructional', 'Medical Non-instructional', 'Medical Instructional', 'Non-medical', 'Medical Non-instructional', 'Medical Non-instructional', 'Medical Non-instructional', 'Medical Non-instructional', 'Medical Non-instructional', 'Non-medical', 'Medical Non-instructional', 'Non-medical', 'Medical Non-instructional', 'Medical Non-instructional', 'Medical Non-instructional', 'Non-medical', 'Medical Instructional', 'Non-medical', 'Non-medical', 'Non-medical', 'Medical Instructional', 'Medical Instructional', 'Non-medical', 'Medical Non-instructional', 'Non-medical', 'Medical Non-instructional', 'Medical Instructional', 'Medical Non-instructional', 'Non-medical', 'Non-medical', 'Medical Non-instructional', 'Medical Non-instructional', 'Medical Non-instructional', 'Medical Instructional', 'Non-medical', 'Non-medical', 'Non-medical', 'Medical Instructional', 'Medical Non-instructional', 'Non-medical', 'Medical Non-instructional', 'Non-medical', 'Medical Non-instructional', 'Medical Non-instructional', 'Medical Non-instructional', 'Non-medical', 'Medical Non-instructional', 'Medical Non-instructional', 'Medical Instructional', 'Non-medical', 'Medical Instructional', 'Medical Non-instructional', 'Non-medical', 'Non-medical', 'Non-medical', 'Non-medical', 'Medical Non-instructional', 'Non-medical', 'Non-medical', 'Medical Non-instructional', 'Medical Non-instructional', 'Medical Non-instructional', 'Medical Non-instructional', 'Medical Non-instructional', 'Medical Non-instructional', 'Medical Instructional', 'Medical Non-instructional', 'Medical Instructional', 'Non-medical', 'Non-medical', 'Medical Non-instructional', 'Medical Instructional', 'Medical Non-instructional', 'Medical Instructional', 'Medical Instructional', 'Non-medical', 'Non-medical', 'Non-medical', 'Non-medical', 'Medical Non-instructional', 'Medical Instructional', 'Non-medical', 'Medical Non-instructional', 'Medical Instructional', 'Medical Non-instructional', 'Medical Instructional', 'Medical Non-instructional', 'Medical Non-instructional', 'Non-medical', 'Medical Non-instructional', 'Non-medical', 'Medical Non-instructional', 'Non-medical', 'Medical Non-instructional', 'Medical Instructional', 'Non-medical', 'Medical Non-instructional', 'Non-medical', 'Non-medical', 'Medical Instructional', 'Medical Instructional', 'Medical Non-instructional', 'Medical Non-instructional', 'Non-medical', 'Non-medical', 'Medical Instructional', 'Medical Non-instructional', 'Non-medical', 'Non-medical', 'Medical Non-instructional', 'Non-medical', 'Non-medical', 'Medical Non-instructional', 'Non-medical', 'Medical Instructional', 'Non-medical', 'Medical Instructional', 'Medical Instructional', 'Non-medical', 'Non-medical', 'Medical Instructional', 'Medical Non-instructional', 'Medical Instructional', 'Medical Non-instructional', 'Non-medical', 'Medical Instructional', 'Medical Non-instructional', 'Medical Non-instructional', 'Medical Instructional', 'Non-medical', 'Medical Non-instructional', 'Non-medical', 'Medical Instructional', 'Non-medical', 'Medical Instructional', 'Medical Non-instructional', 'Medical Instructional', 'Medical Non-instructional', 'Non-medical', 'Non-medical', 'Medical Instructional', 'Non-medical', 'Medical Instructional', 'Medical Instructional', 'Medical Non-instructional', 'Medical Instructional', 'Medical Non-instructional', 'Medical Non-instructional', 'Medical Instructional', 'Non-medical', 'Medical Instructional', 'Medical Instructional', 'Medical Non-instructional', 'Medical Non-instructional', 'Medical Non-instructional', 'Medical Instructional', 'Medical Non-instructional', 'Non-medical', 'Non-medical', 'Medical Non-instructional', 'Medical Non-instructional', 'Medical Instructional', 'Medical Non-instructional', 'Medical Non-instructional', 'Medical Instructional', 'Non-medical', 'Medical Instructional', 'Medical Instructional', 'Medical Instructional', 'Non-medical', 'Medical Non-instructional', 'Medical Non-instructional', 'Medical Instructional', 'Non-medical', 'Medical Non-instructional', 'Medical Instructional', 'Medical Instructional', 'Non-medical', 'Non-medical', 'Medical Non-instructional', 'Non-medical', 'Non-medical', 'Medical Non-instructional', 'Medical Instructional', 'Medical Instructional', 'Medical Non-instructional', 'Non-medical', 'Medical Non-instructional', 'Medical Non-instructional', 'Medical Instructional', 'Medical Instructional', 'Medical Instructional', 'Medical Non-instructional', 'Medical Instructional', 'Medical Instructional', 'Non-medical', 'Medical Instructional', 'Medical Instructional', 'Medical Non-instructional', 'Medical Instructional', 'Non-medical', 'Non-medical', 'Medical Non-instructional', 'Non-medical', 'Medical Instructional', 'Non-medical', 'Non-medical', 'Medical Instructional', 'Non-medical', 'Medical Instructional', 'Medical Instructional', 'Non-medical', 'Medical Non-instructional', 'Medical Non-instructional', 'Medical Instructional', 'Medical Instructional', 'Medical Non-instructional', 'Medical Instructional', 'Medical Instructional', 'Medical Instructional', 'Medical Non-instructional', 'Medical Instructional', 'Non-medical', 'Non-medical', 'Medical Instructional', 'Non-medical', 'Non-medical', 'Non-medical', 'Medical Instructional', 'Medical Instructional', 'Medical Non-instructional', 'Medical Non-instructional', 'Medical Non-instructional', 'Non-medical', 'Medical Non-instructional', 'Medical Instructional', 'Non-medical', 'Medical Instructional', 'Non-medical', 'Non-medical', 'Medical Instructional', 'Medical Non-instructional', 'Medical Non-instructional', 'Non-medical', 'Medical Non-instructional', 'Non-medical', 'Non-medical', 'Medical Non-instructional', 'Medical Instructional', 'Non-medical', 'Medical Non-instructional', 'Medical Instructional', 'Medical Non-instructional', 'Non-medical', 'Medical Non-instructional', 'Non-medical', 'Medical Instructional', 'Medical Non-instructional', 'Medical Non-instructional', 'Non-medical', 'Medical Instructional', 'Medical Non-instructional', 'Non-medical', 'Non-medical', 'Non-medical', 'Medical Non-instructional', 'Medical Non-instructional', 'Medical Instructional', 'Medical Instructional', 'Non-medical', 'Medical Instructional', 'Medical Non-instructional', 'Medical Instructional', 'Medical Non-instructional', 'Non-medical', 'Medical Non-instructional', 'Non-medical', 'Non-medical', 'Medical Non-instructional', 'Medical Non-instructional', 'Medical Non-instructional', 'Medical Instructional', 'Non-medical', 'Non-medical', 'Medical Instructional', 'Non-medical', 'Medical Non-instructional', 'Medical Instructional', 'Medical Non-instructional', 'Medical Instructional', 'Medical Instructional', 'Medical Instructional', 'Medical Non-instructional', 'Medical Non-instructional', 'Non-medical', 'Medical Non-instructional', 'Medical Non-instructional', 'Medical Non-instructional', 'Medical Non-instructional', 'Medical Non-instructional', 'Medical Non-instructional', 'Medical Non-instructional', 'Non-medical', 'Non-medical', 'Non-medical', 'Medical Non-instructional', 'Medical Instructional', 'Medical Instructional', 'Medical Instructional', 'Non-medical', 'Medical Non-instructional']\n"
          ]
        }
      ]
    },
    {
      "cell_type": "code",
      "source": [
        "ans  = []\n",
        "\n",
        "for i in range(len(test)):\n",
        "  newRow = {\"video_id\":testjson[i][\"video_id\"] , \"label\":y_predict[i]}\n",
        "  ans.append(newRow)\n",
        "\n",
        "\n"
      ],
      "metadata": {
        "id": "x_pJ1GU70WWj"
      },
      "execution_count": 31,
      "outputs": []
    },
    {
      "cell_type": "code",
      "source": [
        "\n",
        "with open(\"predictions.json\", \"w\") as final:\n",
        "  json.dump(ans, final)"
      ],
      "metadata": {
        "id": "pnczsPxb2gM_"
      },
      "execution_count": 32,
      "outputs": []
    },
    {
      "cell_type": "code",
      "source": [
        "y_val = predictor.predict(np.asarray(val['text']))"
      ],
      "metadata": {
        "id": "pXusMg9J2AnA"
      },
      "execution_count": 24,
      "outputs": []
    },
    {
      "cell_type": "code",
      "source": [
        "print(len(val), len(y_test))"
      ],
      "metadata": {
        "colab": {
          "base_uri": "https://localhost:8080/"
        },
        "id": "z-FhOWoZffoJ",
        "outputId": "4e31f949-b601-4de4-9727-d4a06be7ab49"
      },
      "execution_count": 27,
      "outputs": [
        {
          "output_type": "stream",
          "name": "stdout",
          "text": [
            "300 300\n"
          ]
        }
      ]
    },
    {
      "cell_type": "code",
      "source": [
        "ans  = []\n",
        "\n",
        "for i in range(len(val)):\n",
        "  newRow = {\"video_id\":valjson[i][\"video_id\"] , \"label\":y_val[i]}\n",
        "  ans.append(newRow)"
      ],
      "metadata": {
        "id": "wXecmhJ22aY1"
      },
      "execution_count": 33,
      "outputs": []
    },
    {
      "cell_type": "code",
      "source": [
        "\n",
        "\n",
        "with open(\"solution.json\", \"w\") as final:\n",
        "  json.dump(ans, final)\n"
      ],
      "metadata": {
        "id": "u7efCRQH1Uvo"
      },
      "execution_count": 34,
      "outputs": []
    },
    {
      "cell_type": "code",
      "source": [
        "y_test = np.asarray(test[\"label\"])"
      ],
      "metadata": {
        "id": "0VInlxBS5kOd"
      },
      "execution_count": 22,
      "outputs": []
    },
    {
      "cell_type": "code",
      "source": [
        "from sklearn.metrics import confusion_matrix, accuracy_score, f1_score\n",
        "y_test= np.asarray(val[\"label\"])\n",
        "cm = confusion_matrix(y_test, y_val)\n",
        "print(cm)\n",
        "f1 = f1_score(y_test, y_val, average = \"macro\" )\n",
        "print(f1)\n",
        "accuracy_score(y_test, y_val)"
      ],
      "metadata": {
        "colab": {
          "base_uri": "https://localhost:8080/"
        },
        "id": "G5XzMWdD6Mfr",
        "outputId": "fcf37ee3-ebac-4cf1-979d-fd50344dbb12"
      },
      "execution_count": 30,
      "outputs": [
        {
          "output_type": "stream",
          "name": "stdout",
          "text": [
            "[[79 20  1]\n",
            " [ 2 97  1]\n",
            " [ 3  2 95]]\n",
            "0.9030024687028342\n"
          ]
        },
        {
          "output_type": "execute_result",
          "data": {
            "text/plain": [
              "0.9033333333333333"
            ]
          },
          "metadata": {},
          "execution_count": 30
        }
      ]
    }
  ],
  "metadata": {
    "colab": {
      "name": "MedVidCL.ipynb",
      "provenance": [],
      "authorship_tag": "ABX9TyNanXlgab6U2EwkzsHOILxT",
      "include_colab_link": true
    },
    "kernelspec": {
      "display_name": "Python 3",
      "name": "python3"
    },
    "language_info": {
      "name": "python"
    },
    "accelerator": "GPU",
    "widgets": {
      "application/vnd.jupyter.widget-state+json": {
        "b4dea886ebea440daf30165c851f1996": {
          "model_module": "@jupyter-widgets/controls",
          "model_name": "HBoxModel",
          "model_module_version": "1.5.0",
          "state": {
            "_dom_classes": [],
            "_model_module": "@jupyter-widgets/controls",
            "_model_module_version": "1.5.0",
            "_model_name": "HBoxModel",
            "_view_count": null,
            "_view_module": "@jupyter-widgets/controls",
            "_view_module_version": "1.5.0",
            "_view_name": "HBoxView",
            "box_style": "",
            "children": [
              "IPY_MODEL_a3594ab8a8fa4549afffe9bf485c7af2",
              "IPY_MODEL_e91b640e5f434f05a84c9413ce81a664",
              "IPY_MODEL_4ad31fc649b3445fbb71c2a8d27a5c73"
            ],
            "layout": "IPY_MODEL_4bf064a0788743e59845f6073b88af02"
          }
        },
        "a3594ab8a8fa4549afffe9bf485c7af2": {
          "model_module": "@jupyter-widgets/controls",
          "model_name": "HTMLModel",
          "model_module_version": "1.5.0",
          "state": {
            "_dom_classes": [],
            "_model_module": "@jupyter-widgets/controls",
            "_model_module_version": "1.5.0",
            "_model_name": "HTMLModel",
            "_view_count": null,
            "_view_module": "@jupyter-widgets/controls",
            "_view_module_version": "1.5.0",
            "_view_name": "HTMLView",
            "description": "",
            "description_tooltip": null,
            "layout": "IPY_MODEL_e89a2a59ac6e4978af6182bd603dcd57",
            "placeholder": "​",
            "style": "IPY_MODEL_b55df97c35c34433bbcdfb580eefc6b5",
            "value": "Downloading: 100%"
          }
        },
        "e91b640e5f434f05a84c9413ce81a664": {
          "model_module": "@jupyter-widgets/controls",
          "model_name": "FloatProgressModel",
          "model_module_version": "1.5.0",
          "state": {
            "_dom_classes": [],
            "_model_module": "@jupyter-widgets/controls",
            "_model_module_version": "1.5.0",
            "_model_name": "FloatProgressModel",
            "_view_count": null,
            "_view_module": "@jupyter-widgets/controls",
            "_view_module_version": "1.5.0",
            "_view_name": "ProgressView",
            "bar_style": "success",
            "description": "",
            "description_tooltip": null,
            "layout": "IPY_MODEL_69bbf517c2154e5491c1e6f9059c86d0",
            "max": 385,
            "min": 0,
            "orientation": "horizontal",
            "style": "IPY_MODEL_d1f721ca8844497cb82cf0a492351b8a",
            "value": 385
          }
        },
        "4ad31fc649b3445fbb71c2a8d27a5c73": {
          "model_module": "@jupyter-widgets/controls",
          "model_name": "HTMLModel",
          "model_module_version": "1.5.0",
          "state": {
            "_dom_classes": [],
            "_model_module": "@jupyter-widgets/controls",
            "_model_module_version": "1.5.0",
            "_model_name": "HTMLModel",
            "_view_count": null,
            "_view_module": "@jupyter-widgets/controls",
            "_view_module_version": "1.5.0",
            "_view_name": "HTMLView",
            "description": "",
            "description_tooltip": null,
            "layout": "IPY_MODEL_f91e1c643d38423ea590817f0285d676",
            "placeholder": "​",
            "style": "IPY_MODEL_14613697af6244c786856e275134ec5d",
            "value": " 385/385 [00:00&lt;00:00, 3.30kB/s]"
          }
        },
        "4bf064a0788743e59845f6073b88af02": {
          "model_module": "@jupyter-widgets/base",
          "model_name": "LayoutModel",
          "model_module_version": "1.2.0",
          "state": {
            "_model_module": "@jupyter-widgets/base",
            "_model_module_version": "1.2.0",
            "_model_name": "LayoutModel",
            "_view_count": null,
            "_view_module": "@jupyter-widgets/base",
            "_view_module_version": "1.2.0",
            "_view_name": "LayoutView",
            "align_content": null,
            "align_items": null,
            "align_self": null,
            "border": null,
            "bottom": null,
            "display": null,
            "flex": null,
            "flex_flow": null,
            "grid_area": null,
            "grid_auto_columns": null,
            "grid_auto_flow": null,
            "grid_auto_rows": null,
            "grid_column": null,
            "grid_gap": null,
            "grid_row": null,
            "grid_template_areas": null,
            "grid_template_columns": null,
            "grid_template_rows": null,
            "height": null,
            "justify_content": null,
            "justify_items": null,
            "left": null,
            "margin": null,
            "max_height": null,
            "max_width": null,
            "min_height": null,
            "min_width": null,
            "object_fit": null,
            "object_position": null,
            "order": null,
            "overflow": null,
            "overflow_x": null,
            "overflow_y": null,
            "padding": null,
            "right": null,
            "top": null,
            "visibility": null,
            "width": null
          }
        },
        "e89a2a59ac6e4978af6182bd603dcd57": {
          "model_module": "@jupyter-widgets/base",
          "model_name": "LayoutModel",
          "model_module_version": "1.2.0",
          "state": {
            "_model_module": "@jupyter-widgets/base",
            "_model_module_version": "1.2.0",
            "_model_name": "LayoutModel",
            "_view_count": null,
            "_view_module": "@jupyter-widgets/base",
            "_view_module_version": "1.2.0",
            "_view_name": "LayoutView",
            "align_content": null,
            "align_items": null,
            "align_self": null,
            "border": null,
            "bottom": null,
            "display": null,
            "flex": null,
            "flex_flow": null,
            "grid_area": null,
            "grid_auto_columns": null,
            "grid_auto_flow": null,
            "grid_auto_rows": null,
            "grid_column": null,
            "grid_gap": null,
            "grid_row": null,
            "grid_template_areas": null,
            "grid_template_columns": null,
            "grid_template_rows": null,
            "height": null,
            "justify_content": null,
            "justify_items": null,
            "left": null,
            "margin": null,
            "max_height": null,
            "max_width": null,
            "min_height": null,
            "min_width": null,
            "object_fit": null,
            "object_position": null,
            "order": null,
            "overflow": null,
            "overflow_x": null,
            "overflow_y": null,
            "padding": null,
            "right": null,
            "top": null,
            "visibility": null,
            "width": null
          }
        },
        "b55df97c35c34433bbcdfb580eefc6b5": {
          "model_module": "@jupyter-widgets/controls",
          "model_name": "DescriptionStyleModel",
          "model_module_version": "1.5.0",
          "state": {
            "_model_module": "@jupyter-widgets/controls",
            "_model_module_version": "1.5.0",
            "_model_name": "DescriptionStyleModel",
            "_view_count": null,
            "_view_module": "@jupyter-widgets/base",
            "_view_module_version": "1.2.0",
            "_view_name": "StyleView",
            "description_width": ""
          }
        },
        "69bbf517c2154e5491c1e6f9059c86d0": {
          "model_module": "@jupyter-widgets/base",
          "model_name": "LayoutModel",
          "model_module_version": "1.2.0",
          "state": {
            "_model_module": "@jupyter-widgets/base",
            "_model_module_version": "1.2.0",
            "_model_name": "LayoutModel",
            "_view_count": null,
            "_view_module": "@jupyter-widgets/base",
            "_view_module_version": "1.2.0",
            "_view_name": "LayoutView",
            "align_content": null,
            "align_items": null,
            "align_self": null,
            "border": null,
            "bottom": null,
            "display": null,
            "flex": null,
            "flex_flow": null,
            "grid_area": null,
            "grid_auto_columns": null,
            "grid_auto_flow": null,
            "grid_auto_rows": null,
            "grid_column": null,
            "grid_gap": null,
            "grid_row": null,
            "grid_template_areas": null,
            "grid_template_columns": null,
            "grid_template_rows": null,
            "height": null,
            "justify_content": null,
            "justify_items": null,
            "left": null,
            "margin": null,
            "max_height": null,
            "max_width": null,
            "min_height": null,
            "min_width": null,
            "object_fit": null,
            "object_position": null,
            "order": null,
            "overflow": null,
            "overflow_x": null,
            "overflow_y": null,
            "padding": null,
            "right": null,
            "top": null,
            "visibility": null,
            "width": null
          }
        },
        "d1f721ca8844497cb82cf0a492351b8a": {
          "model_module": "@jupyter-widgets/controls",
          "model_name": "ProgressStyleModel",
          "model_module_version": "1.5.0",
          "state": {
            "_model_module": "@jupyter-widgets/controls",
            "_model_module_version": "1.5.0",
            "_model_name": "ProgressStyleModel",
            "_view_count": null,
            "_view_module": "@jupyter-widgets/base",
            "_view_module_version": "1.2.0",
            "_view_name": "StyleView",
            "bar_color": null,
            "description_width": ""
          }
        },
        "f91e1c643d38423ea590817f0285d676": {
          "model_module": "@jupyter-widgets/base",
          "model_name": "LayoutModel",
          "model_module_version": "1.2.0",
          "state": {
            "_model_module": "@jupyter-widgets/base",
            "_model_module_version": "1.2.0",
            "_model_name": "LayoutModel",
            "_view_count": null,
            "_view_module": "@jupyter-widgets/base",
            "_view_module_version": "1.2.0",
            "_view_name": "LayoutView",
            "align_content": null,
            "align_items": null,
            "align_self": null,
            "border": null,
            "bottom": null,
            "display": null,
            "flex": null,
            "flex_flow": null,
            "grid_area": null,
            "grid_auto_columns": null,
            "grid_auto_flow": null,
            "grid_auto_rows": null,
            "grid_column": null,
            "grid_gap": null,
            "grid_row": null,
            "grid_template_areas": null,
            "grid_template_columns": null,
            "grid_template_rows": null,
            "height": null,
            "justify_content": null,
            "justify_items": null,
            "left": null,
            "margin": null,
            "max_height": null,
            "max_width": null,
            "min_height": null,
            "min_width": null,
            "object_fit": null,
            "object_position": null,
            "order": null,
            "overflow": null,
            "overflow_x": null,
            "overflow_y": null,
            "padding": null,
            "right": null,
            "top": null,
            "visibility": null,
            "width": null
          }
        },
        "14613697af6244c786856e275134ec5d": {
          "model_module": "@jupyter-widgets/controls",
          "model_name": "DescriptionStyleModel",
          "model_module_version": "1.5.0",
          "state": {
            "_model_module": "@jupyter-widgets/controls",
            "_model_module_version": "1.5.0",
            "_model_name": "DescriptionStyleModel",
            "_view_count": null,
            "_view_module": "@jupyter-widgets/base",
            "_view_module_version": "1.2.0",
            "_view_name": "StyleView",
            "description_width": ""
          }
        },
        "3feff115dbf643dfa3a1ef072321a709": {
          "model_module": "@jupyter-widgets/controls",
          "model_name": "HBoxModel",
          "model_module_version": "1.5.0",
          "state": {
            "_dom_classes": [],
            "_model_module": "@jupyter-widgets/controls",
            "_model_module_version": "1.5.0",
            "_model_name": "HBoxModel",
            "_view_count": null,
            "_view_module": "@jupyter-widgets/controls",
            "_view_module_version": "1.5.0",
            "_view_name": "HBoxView",
            "box_style": "",
            "children": [
              "IPY_MODEL_3a059c9ce68d4ed68f115f1c8829f7c1",
              "IPY_MODEL_47b82ed6520948b3b2a43eb49fac5ade",
              "IPY_MODEL_9c4d5fc6e74d4676977b7e3924ea40ed"
            ],
            "layout": "IPY_MODEL_8771673204d042948a9366657655b2b7"
          }
        },
        "3a059c9ce68d4ed68f115f1c8829f7c1": {
          "model_module": "@jupyter-widgets/controls",
          "model_name": "HTMLModel",
          "model_module_version": "1.5.0",
          "state": {
            "_dom_classes": [],
            "_model_module": "@jupyter-widgets/controls",
            "_model_module_version": "1.5.0",
            "_model_name": "HTMLModel",
            "_view_count": null,
            "_view_module": "@jupyter-widgets/controls",
            "_view_module_version": "1.5.0",
            "_view_name": "HTMLView",
            "description": "",
            "description_tooltip": null,
            "layout": "IPY_MODEL_3762d870c29b4feb8a8d6dec27de2f22",
            "placeholder": "​",
            "style": "IPY_MODEL_8768ae00a30945b38c66fd5e9823fc4f",
            "value": "Downloading: 100%"
          }
        },
        "47b82ed6520948b3b2a43eb49fac5ade": {
          "model_module": "@jupyter-widgets/controls",
          "model_name": "FloatProgressModel",
          "model_module_version": "1.5.0",
          "state": {
            "_dom_classes": [],
            "_model_module": "@jupyter-widgets/controls",
            "_model_module_version": "1.5.0",
            "_model_name": "FloatProgressModel",
            "_view_count": null,
            "_view_module": "@jupyter-widgets/controls",
            "_view_module_version": "1.5.0",
            "_view_name": "ProgressView",
            "bar_style": "success",
            "description": "",
            "description_tooltip": null,
            "layout": "IPY_MODEL_1126bd03300c46b792a8df56596f7a13",
            "max": 213450,
            "min": 0,
            "orientation": "horizontal",
            "style": "IPY_MODEL_0304874691e145149a2697b988ac513b",
            "value": 213450
          }
        },
        "9c4d5fc6e74d4676977b7e3924ea40ed": {
          "model_module": "@jupyter-widgets/controls",
          "model_name": "HTMLModel",
          "model_module_version": "1.5.0",
          "state": {
            "_dom_classes": [],
            "_model_module": "@jupyter-widgets/controls",
            "_model_module_version": "1.5.0",
            "_model_name": "HTMLModel",
            "_view_count": null,
            "_view_module": "@jupyter-widgets/controls",
            "_view_module_version": "1.5.0",
            "_view_name": "HTMLView",
            "description": "",
            "description_tooltip": null,
            "layout": "IPY_MODEL_955abf79f2e54bcfba4968aa8979545f",
            "placeholder": "​",
            "style": "IPY_MODEL_bdd96e7df8564e08a7266d10b6ee81c4",
            "value": " 213k/213k [00:00&lt;00:00, 747kB/s]"
          }
        },
        "8771673204d042948a9366657655b2b7": {
          "model_module": "@jupyter-widgets/base",
          "model_name": "LayoutModel",
          "model_module_version": "1.2.0",
          "state": {
            "_model_module": "@jupyter-widgets/base",
            "_model_module_version": "1.2.0",
            "_model_name": "LayoutModel",
            "_view_count": null,
            "_view_module": "@jupyter-widgets/base",
            "_view_module_version": "1.2.0",
            "_view_name": "LayoutView",
            "align_content": null,
            "align_items": null,
            "align_self": null,
            "border": null,
            "bottom": null,
            "display": null,
            "flex": null,
            "flex_flow": null,
            "grid_area": null,
            "grid_auto_columns": null,
            "grid_auto_flow": null,
            "grid_auto_rows": null,
            "grid_column": null,
            "grid_gap": null,
            "grid_row": null,
            "grid_template_areas": null,
            "grid_template_columns": null,
            "grid_template_rows": null,
            "height": null,
            "justify_content": null,
            "justify_items": null,
            "left": null,
            "margin": null,
            "max_height": null,
            "max_width": null,
            "min_height": null,
            "min_width": null,
            "object_fit": null,
            "object_position": null,
            "order": null,
            "overflow": null,
            "overflow_x": null,
            "overflow_y": null,
            "padding": null,
            "right": null,
            "top": null,
            "visibility": null,
            "width": null
          }
        },
        "3762d870c29b4feb8a8d6dec27de2f22": {
          "model_module": "@jupyter-widgets/base",
          "model_name": "LayoutModel",
          "model_module_version": "1.2.0",
          "state": {
            "_model_module": "@jupyter-widgets/base",
            "_model_module_version": "1.2.0",
            "_model_name": "LayoutModel",
            "_view_count": null,
            "_view_module": "@jupyter-widgets/base",
            "_view_module_version": "1.2.0",
            "_view_name": "LayoutView",
            "align_content": null,
            "align_items": null,
            "align_self": null,
            "border": null,
            "bottom": null,
            "display": null,
            "flex": null,
            "flex_flow": null,
            "grid_area": null,
            "grid_auto_columns": null,
            "grid_auto_flow": null,
            "grid_auto_rows": null,
            "grid_column": null,
            "grid_gap": null,
            "grid_row": null,
            "grid_template_areas": null,
            "grid_template_columns": null,
            "grid_template_rows": null,
            "height": null,
            "justify_content": null,
            "justify_items": null,
            "left": null,
            "margin": null,
            "max_height": null,
            "max_width": null,
            "min_height": null,
            "min_width": null,
            "object_fit": null,
            "object_position": null,
            "order": null,
            "overflow": null,
            "overflow_x": null,
            "overflow_y": null,
            "padding": null,
            "right": null,
            "top": null,
            "visibility": null,
            "width": null
          }
        },
        "8768ae00a30945b38c66fd5e9823fc4f": {
          "model_module": "@jupyter-widgets/controls",
          "model_name": "DescriptionStyleModel",
          "model_module_version": "1.5.0",
          "state": {
            "_model_module": "@jupyter-widgets/controls",
            "_model_module_version": "1.5.0",
            "_model_name": "DescriptionStyleModel",
            "_view_count": null,
            "_view_module": "@jupyter-widgets/base",
            "_view_module_version": "1.2.0",
            "_view_name": "StyleView",
            "description_width": ""
          }
        },
        "1126bd03300c46b792a8df56596f7a13": {
          "model_module": "@jupyter-widgets/base",
          "model_name": "LayoutModel",
          "model_module_version": "1.2.0",
          "state": {
            "_model_module": "@jupyter-widgets/base",
            "_model_module_version": "1.2.0",
            "_model_name": "LayoutModel",
            "_view_count": null,
            "_view_module": "@jupyter-widgets/base",
            "_view_module_version": "1.2.0",
            "_view_name": "LayoutView",
            "align_content": null,
            "align_items": null,
            "align_self": null,
            "border": null,
            "bottom": null,
            "display": null,
            "flex": null,
            "flex_flow": null,
            "grid_area": null,
            "grid_auto_columns": null,
            "grid_auto_flow": null,
            "grid_auto_rows": null,
            "grid_column": null,
            "grid_gap": null,
            "grid_row": null,
            "grid_template_areas": null,
            "grid_template_columns": null,
            "grid_template_rows": null,
            "height": null,
            "justify_content": null,
            "justify_items": null,
            "left": null,
            "margin": null,
            "max_height": null,
            "max_width": null,
            "min_height": null,
            "min_width": null,
            "object_fit": null,
            "object_position": null,
            "order": null,
            "overflow": null,
            "overflow_x": null,
            "overflow_y": null,
            "padding": null,
            "right": null,
            "top": null,
            "visibility": null,
            "width": null
          }
        },
        "0304874691e145149a2697b988ac513b": {
          "model_module": "@jupyter-widgets/controls",
          "model_name": "ProgressStyleModel",
          "model_module_version": "1.5.0",
          "state": {
            "_model_module": "@jupyter-widgets/controls",
            "_model_module_version": "1.5.0",
            "_model_name": "ProgressStyleModel",
            "_view_count": null,
            "_view_module": "@jupyter-widgets/base",
            "_view_module_version": "1.2.0",
            "_view_name": "StyleView",
            "bar_color": null,
            "description_width": ""
          }
        },
        "955abf79f2e54bcfba4968aa8979545f": {
          "model_module": "@jupyter-widgets/base",
          "model_name": "LayoutModel",
          "model_module_version": "1.2.0",
          "state": {
            "_model_module": "@jupyter-widgets/base",
            "_model_module_version": "1.2.0",
            "_model_name": "LayoutModel",
            "_view_count": null,
            "_view_module": "@jupyter-widgets/base",
            "_view_module_version": "1.2.0",
            "_view_name": "LayoutView",
            "align_content": null,
            "align_items": null,
            "align_self": null,
            "border": null,
            "bottom": null,
            "display": null,
            "flex": null,
            "flex_flow": null,
            "grid_area": null,
            "grid_auto_columns": null,
            "grid_auto_flow": null,
            "grid_auto_rows": null,
            "grid_column": null,
            "grid_gap": null,
            "grid_row": null,
            "grid_template_areas": null,
            "grid_template_columns": null,
            "grid_template_rows": null,
            "height": null,
            "justify_content": null,
            "justify_items": null,
            "left": null,
            "margin": null,
            "max_height": null,
            "max_width": null,
            "min_height": null,
            "min_width": null,
            "object_fit": null,
            "object_position": null,
            "order": null,
            "overflow": null,
            "overflow_x": null,
            "overflow_y": null,
            "padding": null,
            "right": null,
            "top": null,
            "visibility": null,
            "width": null
          }
        },
        "bdd96e7df8564e08a7266d10b6ee81c4": {
          "model_module": "@jupyter-widgets/controls",
          "model_name": "DescriptionStyleModel",
          "model_module_version": "1.5.0",
          "state": {
            "_model_module": "@jupyter-widgets/controls",
            "_model_module_version": "1.5.0",
            "_model_name": "DescriptionStyleModel",
            "_view_count": null,
            "_view_module": "@jupyter-widgets/base",
            "_view_module_version": "1.2.0",
            "_view_name": "StyleView",
            "description_width": ""
          }
        },
        "67fc5d1beb0e46cd90ebb2c1f44ef659": {
          "model_module": "@jupyter-widgets/controls",
          "model_name": "HBoxModel",
          "model_module_version": "1.5.0",
          "state": {
            "_dom_classes": [],
            "_model_module": "@jupyter-widgets/controls",
            "_model_module_version": "1.5.0",
            "_model_name": "HBoxModel",
            "_view_count": null,
            "_view_module": "@jupyter-widgets/controls",
            "_view_module_version": "1.5.0",
            "_view_name": "HBoxView",
            "box_style": "",
            "children": [
              "IPY_MODEL_0e056cf54d704c20b6e4ec76e8ebd6ae",
              "IPY_MODEL_d4facb8fc30746b8bec24b1cd1cd4055",
              "IPY_MODEL_df6c5b40d71746e5ae5847ffddef8f94"
            ],
            "layout": "IPY_MODEL_8ffa798cff6d4631855c26952da158c9"
          }
        },
        "0e056cf54d704c20b6e4ec76e8ebd6ae": {
          "model_module": "@jupyter-widgets/controls",
          "model_name": "HTMLModel",
          "model_module_version": "1.5.0",
          "state": {
            "_dom_classes": [],
            "_model_module": "@jupyter-widgets/controls",
            "_model_module_version": "1.5.0",
            "_model_name": "HTMLModel",
            "_view_count": null,
            "_view_module": "@jupyter-widgets/controls",
            "_view_module_version": "1.5.0",
            "_view_name": "HTMLView",
            "description": "",
            "description_tooltip": null,
            "layout": "IPY_MODEL_f65ed36787b443739d6c066c802dcd85",
            "placeholder": "​",
            "style": "IPY_MODEL_2c7aed480f7d48cda8a5c3bae9705707",
            "value": "Downloading: 100%"
          }
        },
        "d4facb8fc30746b8bec24b1cd1cd4055": {
          "model_module": "@jupyter-widgets/controls",
          "model_name": "FloatProgressModel",
          "model_module_version": "1.5.0",
          "state": {
            "_dom_classes": [],
            "_model_module": "@jupyter-widgets/controls",
            "_model_module_version": "1.5.0",
            "_model_name": "FloatProgressModel",
            "_view_count": null,
            "_view_module": "@jupyter-widgets/controls",
            "_view_module_version": "1.5.0",
            "_view_name": "ProgressView",
            "bar_style": "success",
            "description": "",
            "description_tooltip": null,
            "layout": "IPY_MODEL_92963f5b8d0c4c3db5f8ad5e1c41788c",
            "max": 435778770,
            "min": 0,
            "orientation": "horizontal",
            "style": "IPY_MODEL_fb9bcaed21844e22a4589a81ffbcc2d1",
            "value": 435778770
          }
        },
        "df6c5b40d71746e5ae5847ffddef8f94": {
          "model_module": "@jupyter-widgets/controls",
          "model_name": "HTMLModel",
          "model_module_version": "1.5.0",
          "state": {
            "_dom_classes": [],
            "_model_module": "@jupyter-widgets/controls",
            "_model_module_version": "1.5.0",
            "_model_name": "HTMLModel",
            "_view_count": null,
            "_view_module": "@jupyter-widgets/controls",
            "_view_module_version": "1.5.0",
            "_view_name": "HTMLView",
            "description": "",
            "description_tooltip": null,
            "layout": "IPY_MODEL_d28e0e11adae4f4cbc158b4ec89aa76b",
            "placeholder": "​",
            "style": "IPY_MODEL_e182759801e14ff8afa5f035a168c601",
            "value": " 436M/436M [00:20&lt;00:00, 32.3MB/s]"
          }
        },
        "8ffa798cff6d4631855c26952da158c9": {
          "model_module": "@jupyter-widgets/base",
          "model_name": "LayoutModel",
          "model_module_version": "1.2.0",
          "state": {
            "_model_module": "@jupyter-widgets/base",
            "_model_module_version": "1.2.0",
            "_model_name": "LayoutModel",
            "_view_count": null,
            "_view_module": "@jupyter-widgets/base",
            "_view_module_version": "1.2.0",
            "_view_name": "LayoutView",
            "align_content": null,
            "align_items": null,
            "align_self": null,
            "border": null,
            "bottom": null,
            "display": null,
            "flex": null,
            "flex_flow": null,
            "grid_area": null,
            "grid_auto_columns": null,
            "grid_auto_flow": null,
            "grid_auto_rows": null,
            "grid_column": null,
            "grid_gap": null,
            "grid_row": null,
            "grid_template_areas": null,
            "grid_template_columns": null,
            "grid_template_rows": null,
            "height": null,
            "justify_content": null,
            "justify_items": null,
            "left": null,
            "margin": null,
            "max_height": null,
            "max_width": null,
            "min_height": null,
            "min_width": null,
            "object_fit": null,
            "object_position": null,
            "order": null,
            "overflow": null,
            "overflow_x": null,
            "overflow_y": null,
            "padding": null,
            "right": null,
            "top": null,
            "visibility": null,
            "width": null
          }
        },
        "f65ed36787b443739d6c066c802dcd85": {
          "model_module": "@jupyter-widgets/base",
          "model_name": "LayoutModel",
          "model_module_version": "1.2.0",
          "state": {
            "_model_module": "@jupyter-widgets/base",
            "_model_module_version": "1.2.0",
            "_model_name": "LayoutModel",
            "_view_count": null,
            "_view_module": "@jupyter-widgets/base",
            "_view_module_version": "1.2.0",
            "_view_name": "LayoutView",
            "align_content": null,
            "align_items": null,
            "align_self": null,
            "border": null,
            "bottom": null,
            "display": null,
            "flex": null,
            "flex_flow": null,
            "grid_area": null,
            "grid_auto_columns": null,
            "grid_auto_flow": null,
            "grid_auto_rows": null,
            "grid_column": null,
            "grid_gap": null,
            "grid_row": null,
            "grid_template_areas": null,
            "grid_template_columns": null,
            "grid_template_rows": null,
            "height": null,
            "justify_content": null,
            "justify_items": null,
            "left": null,
            "margin": null,
            "max_height": null,
            "max_width": null,
            "min_height": null,
            "min_width": null,
            "object_fit": null,
            "object_position": null,
            "order": null,
            "overflow": null,
            "overflow_x": null,
            "overflow_y": null,
            "padding": null,
            "right": null,
            "top": null,
            "visibility": null,
            "width": null
          }
        },
        "2c7aed480f7d48cda8a5c3bae9705707": {
          "model_module": "@jupyter-widgets/controls",
          "model_name": "DescriptionStyleModel",
          "model_module_version": "1.5.0",
          "state": {
            "_model_module": "@jupyter-widgets/controls",
            "_model_module_version": "1.5.0",
            "_model_name": "DescriptionStyleModel",
            "_view_count": null,
            "_view_module": "@jupyter-widgets/base",
            "_view_module_version": "1.2.0",
            "_view_name": "StyleView",
            "description_width": ""
          }
        },
        "92963f5b8d0c4c3db5f8ad5e1c41788c": {
          "model_module": "@jupyter-widgets/base",
          "model_name": "LayoutModel",
          "model_module_version": "1.2.0",
          "state": {
            "_model_module": "@jupyter-widgets/base",
            "_model_module_version": "1.2.0",
            "_model_name": "LayoutModel",
            "_view_count": null,
            "_view_module": "@jupyter-widgets/base",
            "_view_module_version": "1.2.0",
            "_view_name": "LayoutView",
            "align_content": null,
            "align_items": null,
            "align_self": null,
            "border": null,
            "bottom": null,
            "display": null,
            "flex": null,
            "flex_flow": null,
            "grid_area": null,
            "grid_auto_columns": null,
            "grid_auto_flow": null,
            "grid_auto_rows": null,
            "grid_column": null,
            "grid_gap": null,
            "grid_row": null,
            "grid_template_areas": null,
            "grid_template_columns": null,
            "grid_template_rows": null,
            "height": null,
            "justify_content": null,
            "justify_items": null,
            "left": null,
            "margin": null,
            "max_height": null,
            "max_width": null,
            "min_height": null,
            "min_width": null,
            "object_fit": null,
            "object_position": null,
            "order": null,
            "overflow": null,
            "overflow_x": null,
            "overflow_y": null,
            "padding": null,
            "right": null,
            "top": null,
            "visibility": null,
            "width": null
          }
        },
        "fb9bcaed21844e22a4589a81ffbcc2d1": {
          "model_module": "@jupyter-widgets/controls",
          "model_name": "ProgressStyleModel",
          "model_module_version": "1.5.0",
          "state": {
            "_model_module": "@jupyter-widgets/controls",
            "_model_module_version": "1.5.0",
            "_model_name": "ProgressStyleModel",
            "_view_count": null,
            "_view_module": "@jupyter-widgets/base",
            "_view_module_version": "1.2.0",
            "_view_name": "StyleView",
            "bar_color": null,
            "description_width": ""
          }
        },
        "d28e0e11adae4f4cbc158b4ec89aa76b": {
          "model_module": "@jupyter-widgets/base",
          "model_name": "LayoutModel",
          "model_module_version": "1.2.0",
          "state": {
            "_model_module": "@jupyter-widgets/base",
            "_model_module_version": "1.2.0",
            "_model_name": "LayoutModel",
            "_view_count": null,
            "_view_module": "@jupyter-widgets/base",
            "_view_module_version": "1.2.0",
            "_view_name": "LayoutView",
            "align_content": null,
            "align_items": null,
            "align_self": null,
            "border": null,
            "bottom": null,
            "display": null,
            "flex": null,
            "flex_flow": null,
            "grid_area": null,
            "grid_auto_columns": null,
            "grid_auto_flow": null,
            "grid_auto_rows": null,
            "grid_column": null,
            "grid_gap": null,
            "grid_row": null,
            "grid_template_areas": null,
            "grid_template_columns": null,
            "grid_template_rows": null,
            "height": null,
            "justify_content": null,
            "justify_items": null,
            "left": null,
            "margin": null,
            "max_height": null,
            "max_width": null,
            "min_height": null,
            "min_width": null,
            "object_fit": null,
            "object_position": null,
            "order": null,
            "overflow": null,
            "overflow_x": null,
            "overflow_y": null,
            "padding": null,
            "right": null,
            "top": null,
            "visibility": null,
            "width": null
          }
        },
        "e182759801e14ff8afa5f035a168c601": {
          "model_module": "@jupyter-widgets/controls",
          "model_name": "DescriptionStyleModel",
          "model_module_version": "1.5.0",
          "state": {
            "_model_module": "@jupyter-widgets/controls",
            "_model_module_version": "1.5.0",
            "_model_name": "DescriptionStyleModel",
            "_view_count": null,
            "_view_module": "@jupyter-widgets/base",
            "_view_module_version": "1.2.0",
            "_view_name": "StyleView",
            "description_width": ""
          }
        }
      }
    }
  },
  "nbformat": 4,
  "nbformat_minor": 0
}